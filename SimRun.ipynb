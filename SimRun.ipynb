{
 "cells": [
  {
   "cell_type": "markdown",
   "metadata": {},
   "source": [
    "# Steps to reproduce this environment to be able to use openmm-torch\n",
    "Disclaimer: All solutions and fixes were suggestions found in github forums adapted for the present problem.\n",
    "\n",
    "1. Install pytorch 1.13.0 (preferrable from conda-forge channel), using CUDA 11.7 version.\n",
    "2. Install openmm from conda as well\n",
    "3. Try to install openmm-torch with conda\n",
    "4. Fail and die\n",
    "5. Rise from the ashes like a phoenix and install openmm-torch from source like a pro (steps to install below) (to confirm if we need to install from source)\n",
    "6. Install caffee from conda\n",
    "7. Add the following env variables: `export LD_LIBRARY_PATH=/path/to/caffe2/build/lib:$LD_LIBRARY_PATH` and `export LD_LIBRARY_PATH=/usr/local/cuda-9.0/lib64:$LD_LIBRARY_PATH`\n",
    "8. By this point you will have to recompile openmm-torch\n",
    "9. In my case (Maybe not needed at all) had to uninstall pytorch and install it again.\n",
    "\n",
    "Note: You need to import torch before importing openmmtorch, otherwise some features won't work\n",
    "\n",
    "### Steps to install openmm-torch from source\n",
    "\n",
    "1. Go to `https://pytorch.org/get-started/locally/` and select the combination: Stable, Linux, Libtorch, C++/Java, CUDA 11.7, and copy the command below the description \"Download here (cxx11 ABI):\". Then change the version from 2.0.1 to 1.13.0. Or alternatively, just copy the following command in the terminal: `wget https://download.pytorch.org/libtorch/cu117/libtorch-shared-with-deps-1.13.0%2Bcu117.zip`\n",
    "2. unzip the zipped file\n",
    "3. Make sure the folder where you unzipped libtorch (The thing downloaded above) is accessible from where you're going to build openmm-torch\n",
    "4. Clone locally the repo https://github.com/openmm/openmm-torch\n",
    "5. write in the terminal `ccmake openmm-torch`\n",
    "6. In the interactive terminal, set `PYTORCH_DIR` to point to the directory where you installed the LibTorch.\n",
    "7. Set `OPENMM_DIR` to point to the directory where OpenMM is installed. This is needed to locate the OpenMM header files and libraries. If you are unsure of what directory this is, the following script will print it out. Set the `CMAKE_INSTALL_PREFIX` to point to the same directory as the `OPENMM_DIR`.\n",
    "8. Set the `CUDA_TOOLKIT_ROOT_DIR` because in this case we need it. And make sure `NN_BUILD_CUDA_LIB` is selected. In our case we also selected the flags `NN_BUILD_OPENCL_LIB`, `NN_BUILD_PYTHON_WRAPPERS` and the `CUDNN_STATIC`.\n",
    "9. If it's the first time configuring the build, you may need to press the \"configure\" `[c]` option twice. After that the \"generate\" `[g]` option will appear. If the progress percentage reaches 100%\n"
   ]
  },
  {
   "cell_type": "code",
   "execution_count": null,
   "metadata": {},
   "outputs": [],
   "source": [
    "import torch\n",
    "from openmmtorch import TorchForce\n",
    "import os\n",
    "\n",
    "import yaml\n",
    "from pathlib import Path\n",
    "\n",
    "import numpy as np\n",
    "from openmm.app import *\n",
    "from openmm import *\n",
    "from openmm.unit import *\n",
    "# from force_mapper import ForceMapper\n",
    "\n",
    "# import mdtraj as md\n",
    "\n",
    "import training_modules as tm\n",
    "from sys import stdout\n",
    "\n",
    "from simutils import ForceReporter, ForceModelConvert"
   ]
  },
  {
   "cell_type": "code",
   "execution_count": null,
   "metadata": {},
   "outputs": [],
   "source": [
    "current_dir = os.getcwd()\n",
    "fmartip_dir = os.path.dirname(current_dir)\n",
    "dataset_dir = os.path.dirname(fmartip_dir)\n",
    "output_file = os.path.join(dataset_dir, \"/storage_common/angiod/chignolin_unfolded/chignolin.data.npz\")  #fmartip/ff-naive/DatasetsA2A/dataset.A2a.hydrogen.pose0.npz\n",
    "dataset = dict(np.load(output_file))\n",
    "# Prepare a simulation system\n",
    "atomic_numbers = dataset['atom_types']\n",
    "# output_file = os.path.join(dataset_dir, \"sorted.bond.chig.indices.npz\")  # sorted.bond.a2a.indices.npz\n",
    "# bond_indices = np.load(output_file)\n",
    "# # bond_indices = np.array([[14, 18], [0, 3], [6, 7], [0, 5], [19, 21]])\n",
    "# dataset['bond_indices'] = np.array(bond_indices['arr_0']).reshape(-1,2)\n",
    "# config_file = os.path.join(dataset_dir, \"config.naive.bonds.yaml\")\n",
    "# conf_bonds: list = yaml.safe_load(Path(config_file).read_text())\n",
    "# config_file = os.path.join(dataset_dir, \"config.naive.angles.yaml\")\n",
    "# conf_angles: list = yaml.safe_load(Path(config_file).read_text())\n",
    "# config_file = os.path.join(dataset_dir, \"config.naive.dihedrals.yaml\")\n",
    "# conf_dihedrals: list = yaml.safe_load(Path(config_file).read_text())"
   ]
  },
  {
   "cell_type": "code",
   "execution_count": null,
   "metadata": {},
   "outputs": [],
   "source": [
    "# torch.cuda.set_device(0)"
   ]
  },
  {
   "cell_type": "code",
   "execution_count": null,
   "metadata": {},
   "outputs": [],
   "source": [
    "dataset.keys()"
   ]
  },
  {
   "cell_type": "code",
   "execution_count": null,
   "metadata": {},
   "outputs": [],
   "source": [
    "dataset['pbc']"
   ]
  },
  {
   "cell_type": "code",
   "execution_count": null,
   "metadata": {},
   "outputs": [],
   "source": [
    "for k, v in dataset.items():\n",
    "    try:\n",
    "        print(k, v.shape)\n",
    "    except:\n",
    "        print(k)"
   ]
  },
  {
   "cell_type": "code",
   "execution_count": null,
   "metadata": {},
   "outputs": [],
   "source": [
    "dataset['atom_names'][dataset[\"bead2atom_idcs\"][-1]]"
   ]
  },
  {
   "cell_type": "code",
   "execution_count": null,
   "metadata": {},
   "outputs": [],
   "source": [
    "index = 0\n",
    "# bead mass calculation\n",
    "bead_mass_dict = []\n",
    "for atoms in dataset[\"bead2atom_idcs\"]:\n",
    "    bead_mass = 0\n",
    "    num_atoms = 0\n",
    "    for j in atoms[atoms > -1]:\n",
    "        atom_type = dataset['atom_types'][j]\n",
    "        if atom_type == 1:\n",
    "            bead_mass += 1\n",
    "        elif atom_type == 6:\n",
    "            bead_mass += 12\n",
    "        elif atom_type == 7:\n",
    "            bead_mass += 14\n",
    "        elif atom_type == 8:\n",
    "            bead_mass += 16\n",
    "        elif atom_type == 16:\n",
    "            bead_mass += 32\n",
    "        num_atoms += 1\n",
    "    bead_mass_dict.append(bead_mass)\n",
    "    # force_matrix[index] = force_matrix[index] / bead_mass * num_atoms\n",
    "    name_index += 1\n",
    "    index += 1\n",
    "dataset['bead_mass'] = bead_mass_dict"
   ]
  },
  {
   "cell_type": "code",
   "execution_count": null,
   "metadata": {},
   "outputs": [],
   "source": [
    "dataset['bead_mass'][-1]"
   ]
  },
  {
   "cell_type": "code",
   "execution_count": null,
   "metadata": {},
   "outputs": [],
   "source": [
    "\n",
    "pdb_file = os.path.join(dataset_dir,  \"/home/enere@usi.ch/CGffap/ChigStartingCG.pdb\" ) #Chignolin_CG_Unfolded  A2A-CG.pdb ChigStartingCG.pdb#'/home/enere@usi.ch/FMartIP/original_CG_A2A.pdb' \"ChignCG_unfolded.pdb\" \"original_CG_A2A.pdb\" \"chig_CG/original_CG_a2a_Water.pdb\" \n",
    "# \"/home/enere@usi.ch/FMartIP/chig_CG/original_CG_a2a_4.pdb\"\n",
    "pdb = PDBFile(pdb_file) # OpenMM loader"
   ]
  },
  {
   "cell_type": "code",
   "execution_count": null,
   "metadata": {},
   "outputs": [],
   "source": [
    "# pdb = PDBFile('/home/enere@usi.ch/CGffap/temp/chignolin_unfolded_frames0.pdb') # OpenMM loader"
   ]
  },
  {
   "cell_type": "code",
   "execution_count": null,
   "metadata": {},
   "outputs": [],
   "source": [
    "pdb.getPositions() == pdb.positions"
   ]
  },
  {
   "cell_type": "code",
   "execution_count": null,
   "metadata": {},
   "outputs": [],
   "source": [
    "bead_mass_dict = {}\n",
    "for idname, mass in zip(dataset['bead_idnames'], dataset['bead_mass']):\n",
    "    bead_mass_dict[idname] = mass\n",
    "\n",
    "bead_mass_dict"
   ]
  },
  {
   "cell_type": "code",
   "execution_count": null,
   "metadata": {},
   "outputs": [],
   "source": [
    "pdb_file = os.path.join(dataset_dir, \"/home/angiod@usi.ch/CGffap/ChigCG.pdb\" ) #'/home/enere@usi.ch/FMartIP/original_CG_A2A.pdb' \"ChignCG_unfolded.pdb\" \"original_CG_A2A.pdb\" \"chig_CG/original_CG_a2a_Water.pdb\" \n",
    "# \"/home/enere@usi.ch/FMartIP/chig_CG/original_CG_a2a_4.pdb\"\n",
    "pdb = PDBFile(pdb_file) # OpenMM loader"
   ]
  },
  {
   "cell_type": "code",
   "execution_count": null,
   "metadata": {},
   "outputs": [],
   "source": [
    "for index, (atom, bead) in enumerate(zip(pdb.topology.atoms(), np.unique(dataset['bead_idnames']))):\n",
    "    # print(chr(index + 150))\n",
    "    i = dataset['bead_types'][np.where(dataset['bead_idnames'] == bead)]\n",
    "    print(i[0]+100)\n",
    "    mass = bead_mass_dict[bead]\n",
    "    print(mass*amu)\n",
    "    print(bead)\n",
    "    try:\n",
    "        atom.element = Element(number = i[0]+50, name = bead, symbol = str(index), mass = mass*amu)\n",
    "    except:\n",
    "        atom.element = Element.getByAtomicNumber(i[0]+50)\n",
    "    index +=1\n",
    "    print(Element.getByAtomicNumber(i[0]+50))\n",
    "    print(chr(index))"
   ]
  },
  {
   "cell_type": "code",
   "execution_count": null,
   "metadata": {},
   "outputs": [],
   "source": [
    "bead_charges = []\n",
    "for bead in dataset['bead_idnames']:\n",
    "    if bead == 'GLU_SC1' or bead == 'ASP_SC1' :\n",
    "        bead_charges.append(-1)\n",
    "    elif bead == 'ARG_SC2' or bead == 'HIS_SC3' or bead == 'LYS_SC2':\n",
    "        bead_charges.append(+1)\n",
    "    else:\n",
    "        bead_charges.append(0)\n",
    "print(bead_charges)\n",
    "dataset['bead_charges'] = np.asanyarray(bead_charges).reshape(-1,1)\n",
    "np.matmul(dataset['bead_charges'], dataset['bead_charges'].T)"
   ]
  },
  {
   "cell_type": "code",
   "execution_count": null,
   "metadata": {},
   "outputs": [],
   "source": [
    "for atom in pdb.topology.atoms():\n",
    "    atom\n",
    "    break"
   ]
  },
  {
   "cell_type": "code",
   "execution_count": null,
   "metadata": {},
   "outputs": [],
   "source": [
    "atom.element.mass"
   ]
  },
  {
   "cell_type": "code",
   "execution_count": null,
   "metadata": {},
   "outputs": [],
   "source": [
    "system = System()\n",
    "\n",
    "for atom in pdb.topology.atoms():\n",
    "    # print(atom)\n",
    "    # print(dataset['bead_mass'][atom.index])\n",
    "    system.addParticle(atom.element.mass)\n",
    "\n",
    "# boxVectors = pdb.topology.getPeriodicBoxVectors()\n",
    "# if boxVectors is not None:\n",
    "#     system.setDefaultPeriodicBoxVectors(boxVectors[0], boxVectors[1], boxVectors[2])\n",
    "# print(boxVectors)\n",
    "system.usesPeriodicBoundaryConditions()"
   ]
  },
  {
   "cell_type": "code",
   "execution_count": null,
   "metadata": {},
   "outputs": [],
   "source": [
    "model = torch.jit.load('/home/enere@usi.ch/CGffap/Models/ChigAllFramesAnglesandDihFixTmux25.pt')\n",
    "\n",
    "# force =  torch.jit.script(model)\n",
    "\n",
    "# force.save('ChigAllFramesDatasetResilient.pt')\n",
    "model.state_dict()"
   ]
  },
  {
   "cell_type": "code",
   "execution_count": null,
   "metadata": {},
   "outputs": [],
   "source": [
    "# list(dataset['bead_types'])"
   ]
  },
  {
   "cell_type": "code",
   "execution_count": null,
   "metadata": {},
   "outputs": [],
   "source": [
    "# list(model.state_dict()['dispertion_const'].cpu().numpy())\n"
   ]
  },
  {
   "cell_type": "code",
   "execution_count": null,
   "metadata": {},
   "outputs": [],
   "source": [
    "# torch.cuda.set_device(1)\n",
    "# print(torch.cuda.current_device())"
   ]
  },
  {
   "cell_type": "code",
   "execution_count": null,
   "metadata": {},
   "outputs": [],
   "source": [
    "# SUCCESSFUL TRIAL WITHOUT FORCES AND WITHOUT BONDS (EMPTY SYSTEM WITH JUST THE PARTICLES)\n",
    "\n",
    "# pdb_file = '/home/enere@usi.ch/FMartIP/ChigCG.pdb'\n",
    "# pdb = PDBFile(pdb_file) # OpenMM loader\n",
    "# pdb.topology = Topology()\n",
    "# pdb.topology.addAtom(dataset['bead_names'][0], \"bead\", \"TRY\")\n",
    "\n",
    "# gro = GromacsGroFile('/home/enere@usi.ch/FMartIP/ChigCG.gro')\n",
    "# top = GromacsTopFile('/home/enere@usi.ch/FMartIP/ChigCGtopol.top')\n",
    "# top.setPeriodicBoxVectors(gro.getPeriodicBoxVectors())\n",
    "\n",
    "# modeller = Modeller(top,gro.positions)\n",
    "\n",
    "# Save the NNP to a file and load it with OpenMM-Torch\n",
    "# torch.jit.script(potential).save('model.pt')\n",
    "# force = TorchForce('model.pt', {'useCUDAGraphs': 'true'})\n",
    "# force = TorchForce('modeltrain.pt')\n",
    "\n",
    "model_name = 'ChigAllFramesAnglesandDihFixTmux25.pt'\n",
    "force = TorchForce('/home/enere@usi.ch/CGffap/Models/' + model_name) #'/home/enere@usi.ch/CGffap/bestmodelchigtestboard.pt'\n",
    "# #\n",
    "\n",
    "# I would need to still create the empty system\n",
    "# forcefield = ForceField('amber14-all.xml')\n",
    "# system = forcefield.createSystem(pdb.topology, nonbondedMethod=PME, nonbondedCutoff=1*nanometer, constraints=None)\n",
    "# integrator = LangevinIntegrator(300*kelvin, 1/picoseconds , 0.005 * picoseconds)\n",
    "\n",
    "integrator = VerletIntegrator( 0.010*picoseconds) # NoseHooverIntegrator(300*kelvin, 1/picosecond, 0.010*picoseconds) # #\n",
    "#\n",
    "#NoseHooverIntegrator(300*kelvin, 1/picosecond, 0.010*picoseconds)\n",
    "\n",
    "\n",
    "while system.getNumForces() > 0:\n",
    "    system.removeForce(0)\n",
    "    \n",
    "# The system should not contain any additional force and constrains\n",
    "assert system.getNumConstraints() == 0\n",
    "assert system.getNumForces() == 0\n",
    "\n",
    "# Add the NNP to the system\n",
    "system.addForce(force)\n",
    "\n",
    "# This line combines the molecular topology, system, and integrator to begin a new simulation. It creates a Simulation object and assigns it to a variable called simulation. \n",
    "# A Simulation object manages all the processes involved in running a simulation, such as advancing time and writing output.\n",
    "simulation = Simulation(pdb.topology, system, integrator)\n",
    "simulation.context.setPositions(pdb.getPositions())\n",
    "\n",
    "# Performs a local energy minimization. It is usually a good idea to do this at the start of a simulation, since the coordinates in the PDB file might produce very large forces.\n",
    "# simulation.minimizeEnergy()\n",
    "print(\"starting Sim\")\n",
    "\n",
    "simulation.reporters.append(PDBReporter( 'Sims/' + model_name + 'output.pdb', 10))\n",
    "simulation.reporters.append(StateDataReporter('Sims/' + model_name + 'output.dat', 10, step=True, potentialEnergy=True, kineticEnergy=True, temperature=True, time=True, totalEnergy=True))\n",
    "simulation.reporters.append(ForceReporter('outputforces.txt', 10))\n",
    "\n",
    "#This line adds another reporter to print out some basic information every 1000 time steps\n",
    "simulation.step(10000)\n",
    "state = simulation.context.getState(getPositions=True, getEnergy=True, getForces=True)\n",
    "f = np.array([[a.x,a.y,a.z]for a in state.getForces()])\n",
    "p = np.array([[a.x,a.y,a.z]for a in state.getPositions()])\n",
    "# print(state.getForces(), state.getPositions())"
   ]
  },
  {
   "cell_type": "code",
   "execution_count": null,
   "metadata": {},
   "outputs": [],
   "source": [
    "len(pdb.getPositions())"
   ]
  },
  {
   "cell_type": "code",
   "execution_count": null,
   "metadata": {},
   "outputs": [],
   "source": [
    "state = simulation.context.getState(getPositions=True, getEnergy=True, getForces=True)\n",
    "np.array([[a.x,a.y,a.z]for a in state.getForces()])"
   ]
  },
  {
   "cell_type": "code",
   "execution_count": null,
   "metadata": {},
   "outputs": [],
   "source": [
    "poses = torch.Tensor(p).to('cuda')"
   ]
  },
  {
   "cell_type": "code",
   "execution_count": null,
   "metadata": {},
   "outputs": [],
   "source": [
    "# model = torch.jit.load('/home/enere@usi.ch/CGffap/bestmodelchigtestboard.pt')\n",
    "# model_forces = model(poses)"
   ]
  },
  {
   "cell_type": "code",
   "execution_count": null,
   "metadata": {},
   "outputs": [],
   "source": [
    "# forcemodel = tm.ForceMapper(model, dataset=dataset, pdb_path= '/home/enere@usi.ch/CGffap/pro.pdb')\n",
    "\n",
    "# forcemodel(poses).detach().cpu().numpy() == np.array([[a.x,a.y,a.z]for a in state.getForces()])"
   ]
  },
  {
   "cell_type": "code",
   "execution_count": null,
   "metadata": {},
   "outputs": [],
   "source": [
    "output_file = os.path.join(dataset_dir, \"enere@usi.ch/CGffap/dataset.notVoid.npz\")  #fmartip/ff-naive/DatasetsA2A/dataset.A2a.hydrogen.pose0.npz\n",
    "dataset = dict(np.load(output_file))"
   ]
  },
  {
   "cell_type": "code",
   "execution_count": null,
   "metadata": {},
   "outputs": [],
   "source": [
    "np.linalg.norm(dataset['bead_forces'],axis=0).max()"
   ]
  },
  {
   "cell_type": "code",
   "execution_count": null,
   "metadata": {},
   "outputs": [],
   "source": [
    "dataset_void = dict(np.load('/home/enere@usi.ch/CGffap/dataset.VoidNoPBC.npz'))\n",
    "np.linalg.norm(dataset_void['bead_forces'],axis=0).max()"
   ]
  },
  {
   "cell_type": "code",
   "execution_count": null,
   "metadata": {},
   "outputs": [],
   "source": [
    "simForces = np.linalg.norm(np.array(simulation.reporters[2].getForces()),axis=-1)\n",
    "beadForces = np.linalg.norm(dataset['bead_forces'][:len(simForces)],axis=-1)\n",
    "beadForces_void = np.linalg.norm(dataset_void['bead_forces'][:len(simForces)],axis=-1)"
   ]
  },
  {
   "cell_type": "code",
   "execution_count": null,
   "metadata": {},
   "outputs": [],
   "source": [
    "# Plot losses\n",
    "import matplotlib.pyplot as plt\n",
    "selected_bead_index = 0\n",
    "# Plotting dataset 1\n",
    "plt.figure(figsize=(10, 5))\n",
    "plt.plot(simForces[:,selected_bead_index], label='simForces')\n",
    "\n",
    "\n",
    "# Plotting dataset 2\n",
    "plt.plot(beadForces[:,selected_bead_index], linestyle='--', label='beadForces')\n",
    "\n",
    "# Plotting dataset 3\n",
    "# plt.plot(beadForces_void[:,selected_bead_index], label='beadForces void')\n",
    "\n",
    "# Adding labels and title\n",
    "plt.xlabel('Index')\n",
    "plt.ylabel('Force')\n",
    "plt.title('Comparison of Forces for Dataset 1 and Dataset 2')\n",
    "\n",
    "# Adding legend\n",
    "plt.legend()\n",
    "\n",
    "# Displaying the plot\n",
    "plt.show()"
   ]
  },
  {
   "cell_type": "code",
   "execution_count": null,
   "metadata": {},
   "outputs": [],
   "source": [
    "state = simulation.context.getState(getPositions=True, getEnergy=True, getForces=True)\n",
    "\n",
    "state.getForces()"
   ]
  }
 ],
 "metadata": {
  "kernelspec": {
   "display_name": "openmm",
   "language": "python",
   "name": "python3"
  },
  "language_info": {
   "codemirror_mode": {
    "name": "ipython",
    "version": 3
   },
   "file_extension": ".py",
   "mimetype": "text/x-python",
   "name": "python",
   "nbconvert_exporter": "python",
   "pygments_lexer": "ipython3",
   "version": "3.8.17"
  },
  "orig_nbformat": 4
 },
 "nbformat": 4,
 "nbformat_minor": 2
}
