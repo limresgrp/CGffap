{
 "cells": [
  {
   "cell_type": "markdown",
   "metadata": {},
   "source": [
    "# Steps to reproduce this environment to be able to use openmm-torch\n",
    "Disclaimer: All solutions and fixes were suggestions found in github forums adapted for the present problem.\n",
    "\n",
    "1. Install pytorch 1.13.0 (preferrable from conda-forge channel), using CUDA 11.7 version.\n",
    "2. Install openmm from conda as well\n",
    "3. Try to install openmm-torch with conda\n",
    "4. Fail and die\n",
    "5. Rise from the ashes like a phoenix and install openmm-torch from source like a pro (steps to install below) (to confirm if we need to install from source)\n",
    "6. Install caffee from conda\n",
    "7. Add the following env variables: `export LD_LIBRARY_PATH=/path/to/caffe2/build/lib:$LD_LIBRARY_PATH` and `export LD_LIBRARY_PATH=/usr/local/cuda-9.0/lib64:$LD_LIBRARY_PATH`\n",
    "8. By this point you will have to recompile openmm-torch\n",
    "9. In my case (Maybe not needed at all) had to uninstall pytorch and install it again.\n",
    "\n",
    "Note: You need to import torch before importing openmmtorch, otherwise some features won't work\n",
    "\n",
    "### Steps to install openmm-torch from source\n",
    "\n",
    "1. Go to `https://pytorch.org/get-started/locally/` and select the combination: Stable, Linux, Libtorch, C++/Java, CUDA 11.7, and copy the command below the description \"Download here (cxx11 ABI):\". Then change the version from 2.0.1 to 1.13.0. Or alternatively, just copy the following command in the terminal: `wget https://download.pytorch.org/libtorch/cu117/libtorch-shared-with-deps-1.13.0%2Bcu117.zip`\n",
    "2. unzip the zipped file\n",
    "3. Make sure the folder where you unzipped libtorch (The thing downloaded above) is accessible from where you're going to build openmm-torch\n",
    "4. Clone locally the repo https://github.com/openmm/openmm-torch\n",
    "5. write in the terminal `ccmake openmm-torch`\n",
    "6. In the interactive terminal, set `PYTORCH_DIR` to point to the directory where you installed the LibTorch.\n",
    "7. Set `OPENMM_DIR` to point to the directory where OpenMM is installed. This is needed to locate the OpenMM header files and libraries. If you are unsure of what directory this is, the following script will print it out. Set the `CMAKE_INSTALL_PREFIX` to point to the same directory as the `OPENMM_DIR`.\n",
    "8. Set the `CUDA_TOOLKIT_ROOT_DIR` because in this case we need it. And make sure `NN_BUILD_CUDA_LIB` is selected. In our case we also selected the flags `NN_BUILD_OPENCL_LIB`, `NN_BUILD_PYTHON_WRAPPERS` and the `CUDNN_STATIC`.\n",
    "9. If it's the first time configuring the build, you may need to press the \"configure\" `[c]` option twice. After that the \"generate\" `[g]` option will appear. If the progress percentage reaches 100%\n"
   ]
  },
  {
   "cell_type": "code",
   "execution_count": 1,
   "metadata": {},
   "outputs": [
    {
     "name": "stderr",
     "output_type": "stream",
     "text": [
      "Warning: importing 'simtk.openmm' is deprecated.  Import 'openmm' instead.\n"
     ]
    }
   ],
   "source": [
    "import torch\n",
    "from openmmtorch import TorchForce\n",
    "import os\n",
    "\n",
    "import yaml\n",
    "from pathlib import Path\n",
    "\n",
    "\n",
    "import numpy as np\n",
    "from openmm.app import *\n",
    "from openmm import *\n",
    "from openmm.unit import *\n",
    "# from force_mapper import ForceMapper\n",
    "\n",
    "# import mdtraj as md\n",
    "\n",
    "import training_modules as tm\n",
    "from sys import stdout\n",
    "\n",
    "from simutils import ForceReporter, ForceModelConvert"
   ]
  },
  {
   "cell_type": "code",
   "execution_count": 2,
   "metadata": {},
   "outputs": [],
   "source": [
    "current_dir = os.getcwd()\n",
    "fmartip_dir = os.path.dirname(current_dir)\n",
    "dataset_dir = os.path.dirname(fmartip_dir)\n",
    "output_file = os.path.join(dataset_dir, \"enere@usi.ch/CGffap/dataset.VoidNoPBC.npz\")  #fmartip/ff-naive/DatasetsA2A/dataset.A2a.hydrogen.pose0.npz\n",
    "dataset = dict(np.load(output_file))\n",
    "# Prepare a simulation system\n",
    "atomic_numbers = dataset['atom_types']\n",
    "# output_file = os.path.join(dataset_dir, \"sorted.bond.chig.indices.npz\")  # sorted.bond.a2a.indices.npz\n",
    "# bond_indices = np.load(output_file)\n",
    "# # bond_indices = np.array([[14, 18], [0, 3], [6, 7], [0, 5], [19, 21]])\n",
    "# dataset['bond_indices'] = np.array(bond_indices['arr_0']).reshape(-1,2)\n",
    "# config_file = os.path.join(dataset_dir, \"config.naive.bonds.yaml\")\n",
    "# conf_bonds: list = yaml.safe_load(Path(config_file).read_text())\n",
    "# config_file = os.path.join(dataset_dir, \"config.naive.angles.yaml\")\n",
    "# conf_angles: list = yaml.safe_load(Path(config_file).read_text())\n",
    "# config_file = os.path.join(dataset_dir, \"config.naive.dihedrals.yaml\")\n",
    "# conf_dihedrals: list = yaml.safe_load(Path(config_file).read_text())"
   ]
  },
  {
   "cell_type": "code",
   "execution_count": 3,
   "metadata": {},
   "outputs": [],
   "source": [
    "torch.cuda.set_device(0)"
   ]
  },
  {
   "cell_type": "code",
   "execution_count": 4,
   "metadata": {},
   "outputs": [
    {
     "data": {
      "text/plain": [
       "dict_keys(['num_residues', 'resnames', 'residcs', 'resnumbers', 'num_atoms', 'atom_pos', 'atom_resnames', 'atom_names', 'atom_types', 'atom_residcs', 'atom_resnumbers', 'ATOM_SEGIDS', 'atom_forces', 'num_beads', 'bead_pos', 'bead_idnames', 'bead_resnames', 'bead_names', 'bead_types', 'bead_residcs', 'bead_resnumbers', 'bead_segids', 'bead_forces', 'pbc', 'bead2atom_idcs', 'bead2atom_weights'])"
      ]
     },
     "execution_count": 4,
     "metadata": {},
     "output_type": "execute_result"
    }
   ],
   "source": [
    "dataset.keys()"
   ]
  },
  {
   "cell_type": "code",
   "execution_count": 5,
   "metadata": {},
   "outputs": [
    {
     "data": {
      "text/plain": [
       "array([ True,  True,  True])"
      ]
     },
     "execution_count": 5,
     "metadata": {},
     "output_type": "execute_result"
    }
   ],
   "source": [
    "dataset['pbc']"
   ]
  },
  {
   "cell_type": "code",
   "execution_count": 6,
   "metadata": {},
   "outputs": [
    {
     "name": "stdout",
     "output_type": "stream",
     "text": [
      "num_residues ()\n",
      "resnames (10,)\n",
      "residcs (10,)\n",
      "resnumbers (10,)\n",
      "num_atoms ()\n",
      "atom_pos (9100, 165, 3)\n",
      "atom_resnames (165,)\n",
      "atom_names (165,)\n",
      "atom_types (165,)\n",
      "atom_residcs (165,)\n",
      "atom_resnumbers (165,)\n",
      "ATOM_SEGIDS (165,)\n",
      "atom_forces (9100, 165, 3)\n",
      "num_beads ()\n",
      "bead_pos (9100, 32, 3)\n",
      "bead_idnames (32,)\n",
      "bead_resnames (32,)\n",
      "bead_names (32,)\n",
      "bead_types (32,)\n",
      "bead_residcs (32,)\n",
      "bead_resnumbers (32,)\n",
      "bead_segids (32,)\n",
      "bead_forces (9100, 32, 3)\n",
      "pbc (3,)\n",
      "bead2atom_idcs (32, 13)\n",
      "bead2atom_weights (32, 13)\n"
     ]
    }
   ],
   "source": [
    "for k, v in dataset.items():\n",
    "    try:\n",
    "        print(k, v.shape)\n",
    "    except:\n",
    "        print(k)"
   ]
  },
  {
   "cell_type": "code",
   "execution_count": 7,
   "metadata": {},
   "outputs": [],
   "source": [
    "index = 0\n",
    "# bead mass calculation\n",
    "bead_mass_dict = []\n",
    "name_index = 0\n",
    "\n",
    "for atoms in dataset[\"bead2atom_idcs\"]:\n",
    "    # print(i)\n",
    "    bead_mass = 0\n",
    "    num_atoms = 0\n",
    "    for j in atoms:\n",
    "        atom_name = dataset['atom_names'][j]\n",
    "        if  \"C\" in atom_name:\n",
    "            atom_mass = 12\n",
    "            bead_mass += 12\n",
    "        elif \"O\" in atom_name:\n",
    "            atom_mass = 16\n",
    "            bead_mass += 16\n",
    "        elif \"N\" in atom_name:\n",
    "            atom_mass = 14\n",
    "            bead_mass += 14\n",
    "        elif \"S\" in atom_name:\n",
    "            atom_mass = 32\n",
    "            bead_mass += 32\n",
    "        elif \"H\" in atom_name:\n",
    "            atom_mass = 1\n",
    "            bead_mass += 1\n",
    "        num_atoms += 1\n",
    "    bead_mass_dict.append(bead_mass)\n",
    "    # force_matrix[index] = force_matrix[index] / bead_mass * num_atoms\n",
    "    name_index += 1\n",
    "    index += 1\n",
    "dataset['bead_mass'] = bead_mass_dict"
   ]
  },
  {
   "cell_type": "code",
   "execution_count": 8,
   "metadata": {},
   "outputs": [],
   "source": [
    "\n",
    "pdb_file = os.path.join(dataset_dir,  \"/home/enere@usi.ch/FMartIP/ChigCG.pdb\" ) #'/home/enere@usi.ch/FMartIP/original_CG_A2A.pdb' \"ChignCG_unfolded.pdb\" \"original_CG_A2A.pdb\" \"chig_CG/original_CG_a2a_Water.pdb\" \n",
    "# \"/home/enere@usi.ch/FMartIP/chig_CG/original_CG_a2a_4.pdb\"\n",
    "pdb = PDBFile(pdb_file) # OpenMM loader"
   ]
  },
  {
   "cell_type": "code",
   "execution_count": 9,
   "metadata": {},
   "outputs": [],
   "source": [
    "# pdb = PDBFile('/home/enere@usi.ch/CGffap/temp/chignolin_unfolded_frames0.pdb') # OpenMM loader"
   ]
  },
  {
   "cell_type": "code",
   "execution_count": 10,
   "metadata": {},
   "outputs": [
    {
     "data": {
      "text/plain": [
       "True"
      ]
     },
     "execution_count": 10,
     "metadata": {},
     "output_type": "execute_result"
    }
   ],
   "source": [
    "pdb.getPositions() == pdb.positions"
   ]
  },
  {
   "cell_type": "code",
   "execution_count": 11,
   "metadata": {},
   "outputs": [
    {
     "data": {
      "text/plain": [
       "{'TYR_BB': 63,\n",
       " 'TYR_SC1': 35,\n",
       " 'TYR_SC2': 35,\n",
       " 'TYR_SC4': 39,\n",
       " 'TYR_SC3': 35,\n",
       " 'ASP_BB': 63,\n",
       " 'ASP_SC1': 65,\n",
       " 'PRO_BB': 63,\n",
       " 'PRO_SC1': 46,\n",
       " 'GLU_BB': 63,\n",
       " 'GLU_SC1': 76,\n",
       " 'THR_BB': 63,\n",
       " 'THR_SC1': 50,\n",
       " 'GLY_BB': 63,\n",
       " 'TRP_BB': 63,\n",
       " 'TRP_SC1': 35,\n",
       " 'TRP_SC2': 37,\n",
       " 'TRP_SC3': 35,\n",
       " 'TRP_SC5': 35,\n",
       " 'TRP_SC4': 35}"
      ]
     },
     "execution_count": 11,
     "metadata": {},
     "output_type": "execute_result"
    }
   ],
   "source": [
    "bead_mass_dict = {}\n",
    "name_index = 0\n",
    "for mass in dataset['bead_mass']:\n",
    "    bead_mass_dict[dataset['bead_idnames'][name_index]] = mass\n",
    "    name_index += 1\n",
    "\n",
    "bead_mass_dict"
   ]
  },
  {
   "cell_type": "code",
   "execution_count": 12,
   "metadata": {},
   "outputs": [
    {
     "data": {
      "text/plain": [
       "array([ 1, 37, 38, 40, 39,  1, 37, 38, 40, 39,  1,  6,  1, 29,  1, 10,  1,\n",
       "       31,  1,  1, 31,  1, 32, 33, 34, 36, 35,  1, 37, 38, 40, 39])"
      ]
     },
     "execution_count": 12,
     "metadata": {},
     "output_type": "execute_result"
    }
   ],
   "source": [
    "dataset['bead_types']"
   ]
  },
  {
   "cell_type": "code",
   "execution_count": 13,
   "metadata": {},
   "outputs": [
    {
     "name": "stdout",
     "output_type": "stream",
     "text": [
      "101\n",
      "63 Da\n",
      "ASP_BB\n",
      "<Element ASP_BB>\n",
      "\u0001\n",
      "106\n",
      "65 Da\n",
      "ASP_SC1\n",
      "<Element ASP_SC1>\n",
      "\u0002\n",
      "101\n",
      "63 Da\n",
      "GLU_BB\n",
      "<Element ASP_BB>\n",
      "\u0003\n",
      "110\n",
      "76 Da\n",
      "GLU_SC1\n",
      "<Element GLU_SC1>\n",
      "\u0004\n",
      "101\n",
      "63 Da\n",
      "GLY_BB\n",
      "<Element ASP_BB>\n",
      "\u0005\n",
      "101\n",
      "63 Da\n",
      "PRO_BB\n",
      "<Element ASP_BB>\n",
      "\u0006\n",
      "129\n",
      "46 Da\n",
      "PRO_SC1\n",
      "<Element PRO_SC1>\n",
      "\u0007\n",
      "101\n",
      "63 Da\n",
      "THR_BB\n",
      "<Element ASP_BB>\n",
      "\b\n",
      "131\n",
      "50 Da\n",
      "THR_SC1\n",
      "<Element THR_SC1>\n",
      "\t\n",
      "101\n",
      "63 Da\n",
      "TRP_BB\n",
      "<Element ASP_BB>\n",
      "\n",
      "\n",
      "132\n",
      "35 Da\n",
      "TRP_SC1\n",
      "<Element TRP_SC1>\n",
      "\u000b\n",
      "133\n",
      "37 Da\n",
      "TRP_SC2\n",
      "<Element TRP_SC2>\n",
      "\f\n",
      "134\n",
      "35 Da\n",
      "TRP_SC3\n",
      "<Element TRP_SC3>\n",
      "\n",
      "135\n",
      "35 Da\n",
      "TRP_SC4\n",
      "<Element TRP_SC4>\n",
      "\u000e\n",
      "136\n",
      "35 Da\n",
      "TRP_SC5\n",
      "<Element TRP_SC5>\n",
      "\u000f\n",
      "101\n",
      "63 Da\n",
      "TYR_BB\n",
      "<Element ASP_BB>\n",
      "\u0010\n",
      "137\n",
      "35 Da\n",
      "TYR_SC1\n",
      "<Element TYR_SC1>\n",
      "\u0011\n",
      "138\n",
      "35 Da\n",
      "TYR_SC2\n",
      "<Element TYR_SC2>\n",
      "\u0012\n",
      "139\n",
      "35 Da\n",
      "TYR_SC3\n",
      "<Element TYR_SC3>\n",
      "\u0013\n",
      "140\n",
      "39 Da\n",
      "TYR_SC4\n",
      "<Element TYR_SC4>\n",
      "\u0014\n"
     ]
    }
   ],
   "source": [
    "index = 0\n",
    "for atom, bead in zip(pdb.topology.atoms(), np.unique(dataset['bead_idnames'])):\n",
    "    # print(chr(index + 150))\n",
    "    i = dataset['bead_types'][np.where(dataset['bead_idnames'] == bead)]\n",
    "    print(i[0]+100)\n",
    "    mass = bead_mass_dict[bead]\n",
    "    print(mass*amu)\n",
    "    print(bead)\n",
    "    try:\n",
    "        atom.element = Element(number = i[0]+100, name = bead, symbol = str(index), mass = mass*amu)\n",
    "    except:\n",
    "        atom.element = Element.getByAtomicNumber(i[0]+100)\n",
    "    index +=1\n",
    "    print(Element.getByAtomicNumber(i[0]+100))\n",
    "    print(chr(index))"
   ]
  },
  {
   "cell_type": "code",
   "execution_count": 14,
   "metadata": {},
   "outputs": [
    {
     "name": "stdout",
     "output_type": "stream",
     "text": [
      "[0, 0, 0, 0, 0, 0, 0, 0, 0, 0, 0, 0, 0, 0, 0, 0, 0, 0, 0, 0, 0, 0, 0, 0, 0, 0, 0, 0, 0, 0, 0, 0]\n"
     ]
    },
    {
     "data": {
      "text/plain": [
       "array([[0, 0, 0, ..., 0, 0, 0],\n",
       "       [0, 0, 0, ..., 0, 0, 0],\n",
       "       [0, 0, 0, ..., 0, 0, 0],\n",
       "       ...,\n",
       "       [0, 0, 0, ..., 0, 0, 0],\n",
       "       [0, 0, 0, ..., 0, 0, 0],\n",
       "       [0, 0, 0, ..., 0, 0, 0]])"
      ]
     },
     "execution_count": 14,
     "metadata": {},
     "output_type": "execute_result"
    }
   ],
   "source": [
    "bead_charges = []\n",
    "for bead in dataset['bead_names']:\n",
    "    if bead == 'GLU_SC1' or bead == 'ASP_SC1' :\n",
    "        bead_charges.append(-1)\n",
    "    elif bead == 'ARG_SC2' or bead == 'HIS_SC3' or bead == 'LYS_SC2':\n",
    "        bead_charges.append(+1)\n",
    "    else:\n",
    "        bead_charges.append(0)\n",
    "print(bead_charges)\n",
    "dataset['bead_charges'] = np.asanyarray(bead_charges).reshape(-1,1)\n",
    "np.matmul(dataset['bead_charges'], dataset['bead_charges'].T)"
   ]
  },
  {
   "cell_type": "code",
   "execution_count": 15,
   "metadata": {},
   "outputs": [],
   "source": [
    "for atom in pdb.topology.atoms():\n",
    "    atom\n",
    "    break"
   ]
  },
  {
   "cell_type": "code",
   "execution_count": 16,
   "metadata": {},
   "outputs": [
    {
     "data": {
      "text/plain": [
       "Quantity(value=63, unit=dalton)"
      ]
     },
     "execution_count": 16,
     "metadata": {},
     "output_type": "execute_result"
    }
   ],
   "source": [
    "atom.element.mass"
   ]
  },
  {
   "cell_type": "code",
   "execution_count": 17,
   "metadata": {},
   "outputs": [
    {
     "data": {
      "text/plain": [
       "False"
      ]
     },
     "execution_count": 17,
     "metadata": {},
     "output_type": "execute_result"
    }
   ],
   "source": [
    "system = System()\n",
    "\n",
    "for atom in pdb.topology.atoms():\n",
    "    # print(atom)\n",
    "    # print(dataset['bead_mass'][atom.index])\n",
    "    system.addParticle(atom.element.mass)\n",
    "\n",
    "# boxVectors = pdb.topology.getPeriodicBoxVectors()\n",
    "# if boxVectors is not None:\n",
    "#     system.setDefaultPeriodicBoxVectors(boxVectors[0], boxVectors[1], boxVectors[2])\n",
    "# print(boxVectors)\n",
    "system.usesPeriodicBoundaryConditions()"
   ]
  },
  {
   "cell_type": "code",
   "execution_count": 18,
   "metadata": {},
   "outputs": [],
   "source": [
    "model = torch.jit.load('/home/enere@usi.ch/CGffap/best_model_chig9900mixframesNH2000epochs.pt')\n",
    "\n",
    "# force =  torch.jit.script(ForceModelConvert(model, 10.))\n",
    "\n",
    "# force.save('modeltrain2.pt')"
   ]
  },
  {
   "cell_type": "code",
   "execution_count": 19,
   "metadata": {},
   "outputs": [
    {
     "data": {
      "text/plain": [
       "OrderedDict([('dispertion_const',\n",
       "              tensor([2.9199e+00, 3.0721e+00, 2.9652e+00, 3.2558e+00, 3.3272e+00, 6.0621e+00,\n",
       "                      1.2012e+01, 8.5532e+00, 3.7670e+00, 3.2660e+00, 1.2479e+01, 2.2093e+00,\n",
       "                      3.3031e+00, 3.0427e+00, 3.0543e+00, 3.0674e+00, 3.0533e+00, 3.0491e+00,\n",
       "                      3.0532e+00, 2.7441e+00, 3.1564e+00, 2.9316e+00, 1.4675e+00, 2.9541e+00,\n",
       "                      3.0387e+00, 8.2746e+00, 2.9701e+00, 1.5217e+01, 3.4802e-03, 1.0837e+01,\n",
       "                      8.6705e+00, 9.1227e+00, 2.9062e+00, 1.1911e+01, 3.6140e+00, 3.3188e+00,\n",
       "                      3.0751e+00, 2.9275e+00, 3.4002e+00, 2.9847e+00, 3.4247e+00, 3.0814e+00,\n",
       "                      3.2041e+00, 2.4947e+00, 2.7721e+00, 2.9727e+00, 2.9562e+00, 2.8772e+00,\n",
       "                      3.0276e+00, 2.7420e+00, 2.4214e+00, 1.1945e-02, 3.5473e+00, 8.9001e-03,\n",
       "                      4.9628e+00, 3.4032e+00, 2.6158e+00, 2.8454e+00, 2.7634e+00, 2.9356e+00,\n",
       "                      2.7210e+00, 2.7582e+00, 3.1463e+00, 3.9388e+00, 3.3357e+00, 3.0148e+00,\n",
       "                      2.6098e+00, 2.8344e+00, 2.8669e+00, 3.1420e+00, 2.9815e+00, 2.9732e+00,\n",
       "                      2.3198e+00, 5.5502e+00, 3.0518e+00, 1.0773e+01, 3.0223e+00, 3.1041e+00,\n",
       "                      3.4631e+00, 4.4278e+00, 4.7164e+00, 5.3872e-03, 3.1701e+00, 3.3844e+00,\n",
       "                      3.1399e+00, 3.8286e+00, 3.2868e+00, 2.5727e+00, 8.9374e+00, 1.5776e-02,\n",
       "                      2.8893e+00, 2.5545e+00, 2.9498e+00, 2.9604e+00, 2.9745e+00, 2.9683e+00,\n",
       "                      2.9636e+00, 2.8825e+00, 4.7985e+00, 2.2631e+00, 3.4208e+00, 4.1179e+00,\n",
       "                      3.2032e+00, 3.0514e+00, 3.1898e+00, 2.9775e+00, 2.9581e+00, 2.9901e+00,\n",
       "                      2.9648e+00, 2.9556e+00, 2.9649e+00, 3.3587e+00, 9.6410e+00, 1.4294e+01,\n",
       "                      3.2985e+00, 2.3923e+00, 2.9892e+00, 1.0889e+01, 2.9004e+00, 6.5144e+00,\n",
       "                      2.9539e+00, 1.2951e+01, 2.9661e+00, 2.9534e+00, 2.5549e+00, 2.6759e+00,\n",
       "                      2.9783e+00, 2.9263e+00, 2.5948e+00, 2.9537e+00, 2.9601e+00, 6.8038e+00,\n",
       "                      2.6197e+00, 1.4531e+00, 3.1394e+00, 2.8898e+00, 2.8402e+00, 2.9551e+00,\n",
       "                      3.4993e+00, 4.1426e+00, 2.9415e+00, 2.9151e+00, 2.8484e+00, 2.9465e+00,\n",
       "                      2.8633e+00, 2.7803e+00, 2.9281e+00, 7.9057e+00, 2.9177e+00, 2.7772e+00,\n",
       "                      1.2306e+00, 4.1521e+00, 1.5220e+01, 9.0423e+00, 3.6986e+00, 2.9357e+00,\n",
       "                      2.9731e+00, 2.9144e+00, 2.9497e+00, 2.9629e+00, 2.9492e+00, 3.2713e+00,\n",
       "                      1.3110e+01, 3.0522e+00, 2.9695e+00, 2.9441e+00, 9.4436e+00, 3.2777e+00,\n",
       "                      3.8878e+00, 3.1085e+00, 3.3399e+00], device='cuda:0')),\n",
       "             ('lj_const',\n",
       "              tensor([0.3257, 0.3302, 0.3041, 0.0846, 0.5459, 0.4756, 0.1683, 0.0842, 0.2515,\n",
       "                      0.0617, 0.4244, 0.4706, 0.3859, 0.2840, 0.3212, 0.3194, 0.2943, 0.3074,\n",
       "                      0.3103, 0.0622, 0.0720, 0.0570, 0.3807, 0.0667, 0.0594, 0.3537, 0.0862,\n",
       "                      0.5726, 1.4473, 0.3614, 0.3683, 0.1019, 0.0705, 0.4354, 0.1503, 0.1164,\n",
       "                      0.1713, 0.2780, 0.3147, 0.1193, 0.3015, 0.3155, 0.1861, 0.1456, 0.1037,\n",
       "                      0.1264, 0.1343, 0.2029, 0.1471, 0.3314, 0.1372, 0.8499, 0.5363, 0.9313,\n",
       "                      0.3398, 0.2099, 0.0527, 0.2191, 0.3482, 0.2286, 0.3203, 0.1055, 0.0775,\n",
       "                      0.1456, 0.0586, 0.0789, 0.2177, 0.0714, 0.0741, 0.2166, 0.1937, 0.1089,\n",
       "                      0.1415, 0.3514, 0.3051, 0.4231, 0.2950, 0.3164, 0.3136, 0.3855, 0.2541,\n",
       "                      0.9581, 0.1899, 0.4355, 0.1302, 0.4543, 0.3096, 0.1241, 0.3932, 0.6249,\n",
       "                      0.0608, 0.1586, 0.0700, 0.0919, 0.2121, 0.1624, 0.1557, 0.1641, 0.1071,\n",
       "                      0.1823, 0.2868, 0.4496, 0.3131, 0.3529, 0.4030, 0.1006, 0.1154, 0.2226,\n",
       "                      0.1475, 0.1532, 0.1517, 0.0955, 0.2750, 0.5077, 0.0782, 0.0810, 0.3083,\n",
       "                      0.7585, 0.2045, 0.3009, 0.3471, 0.4871, 0.1285, 0.0787, 0.0711, 0.0869,\n",
       "                      0.2281, 0.1588, 0.0929, 0.1452, 0.1902, 0.6919, 0.0823, 0.0844, 0.4873,\n",
       "                      0.2468, 0.2766, 0.2445, 0.5570, 0.1412, 0.1184, 0.1210, 0.1380, 0.2373,\n",
       "                      0.1810, 0.1633, 0.1732, 0.3218, 0.0879, 0.0750, 0.7562, 0.1434, 0.6799,\n",
       "                      0.5004, 0.4390, 0.0912, 0.0689, 0.1753, 0.1087, 0.1500, 0.1338, 0.1542,\n",
       "                      0.7316, 0.1406, 0.1795, 0.1291, 0.5208, 0.2701, 0.4152, 0.3586, 0.2390],\n",
       "                     device='cuda:0')),\n",
       "             ('bond_H_lj_const',\n",
       "              tensor([0.0190, 0.1245, 0.0271, 0.0067, 0.0529, 0.5617, 0.0197, 0.0106, 0.5898,\n",
       "                      0.0090, 0.0297, 0.0370, 0.3639, 0.1730, 0.0459, 0.0319, 0.0993, 0.0470,\n",
       "                      1.0546, 0.0042, 0.0079, 0.0047, 0.0061, 0.0061, 0.0069, 0.0113, 0.0103,\n",
       "                      0.0257, 0.0211, 0.0201, 0.0103, 1.0369, 0.0065, 0.0355, 0.0775, 0.0407,\n",
       "                      1.2372, 0.0298, 0.8304, 0.0186, 0.2451, 0.0281, 1.5710, 0.0355, 0.0056,\n",
       "                      0.0246, 0.0249, 1.2394, 0.0284, 0.0061, 0.0035, 0.0143, 0.6256, 0.0410,\n",
       "                      0.1062, 0.0463, 0.0047, 0.0411, 0.0093, 0.0211, 0.0103, 0.0106, 0.0109,\n",
       "                      0.0310, 0.0101, 0.0092, 0.0055, 0.0077, 0.0081, 0.0653, 0.0467, 0.0174,\n",
       "                      0.0275, 0.4740, 0.0566, 0.0846, 0.9762, 0.4684, 0.0593, 0.0597, 0.0330,\n",
       "                      0.0184, 1.5682, 0.5545, 0.0300, 0.2602, 0.6619, 0.0085, 0.5757, 0.0164,\n",
       "                      0.0052, 0.0050, 0.0069, 0.0116, 0.0632, 0.0364, 0.0339, 0.0375, 0.0141,\n",
       "                      0.0190, 0.6361, 0.5065, 0.2563, 0.0431, 0.3337, 0.0147, 0.0172, 0.0688,\n",
       "                      0.0294, 0.0324, 0.0312, 0.0108, 0.0313, 0.3092, 0.0093, 0.0106, 0.1370,\n",
       "                      0.3359, 0.0554, 1.9783, 0.0209, 0.0460, 0.0230, 0.0089, 0.0081, 0.0117,\n",
       "                      0.0772, 0.0357, 0.0131, 0.0295, 0.0487, 0.7918, 0.0103, 0.0101, 0.3549,\n",
       "                      0.0881, 0.1163, 0.0828, 1.0136, 0.0261, 0.0191, 0.0197, 0.0244, 0.0839,\n",
       "                      0.0472, 0.0388, 0.0427, 0.0499, 0.0107, 0.0085, 0.1179, 0.0298, 0.0628,\n",
       "                      0.2928, 0.5245, 0.0114, 0.0075, 0.0427, 0.0169, 0.0325, 0.0253, 1.8868,\n",
       "                      0.6058, 0.0268, 0.0447, 0.0225, 0.4459, 0.7043, 0.3343, 0.2703, 0.0785],\n",
       "                     device='cuda:0')),\n",
       "             ('bond_H_strength_const',\n",
       "              tensor([1.8705e+00, 2.0493e+00, 1.9085e+00, 3.0819e+00, 1.9836e+00, 6.6020e+00,\n",
       "                      8.6905e+00, 6.7352e+00, 7.7958e+00, 2.0173e+00, 9.9120e+00, 3.0652e+00,\n",
       "                      4.4855e+00, 2.5545e+00, 2.5100e+00, 3.0834e+00, 3.8541e+00, 2.6752e+00,\n",
       "                      1.7148e-02, 2.0009e+00, 2.0393e+00, 1.9137e+00, 2.3165e+00, 1.9066e+00,\n",
       "                      1.9931e+00, 2.5875e+00, 1.9898e+00, 2.1819e+00, 2.0174e+00, 6.1122e+00,\n",
       "                      2.9026e+00, 6.8698e-02, 1.9927e+00, 5.4908e+00, 2.5276e+00, 2.0035e+00,\n",
       "                      2.9420e-02, 2.6791e+00, 2.0416e+00, 2.0029e+00, 4.3084e+00, 5.0620e+00,\n",
       "                      1.3857e-02, 1.0368e+00, 1.8945e+00, 1.9843e+00, 1.9669e+00, 6.1950e-03,\n",
       "                      2.0192e+00, 2.2695e+00, 2.1895e+00, 2.0345e+00, 3.3229e+00, 2.0016e+00,\n",
       "                      8.7324e+00, 2.3095e+00, 8.2736e-01, 1.9299e+00, 2.3734e+00, 2.2598e+00,\n",
       "                      2.1634e+00, 1.9220e+00, 1.8942e+00, 2.5085e+00, 2.0652e+00, 2.0134e+00,\n",
       "                      2.2223e+00, 1.5034e+00, 1.6487e+00, 2.0700e+00, 2.0075e+00, 2.0086e+00,\n",
       "                      1.9512e+00, 1.6351e+01, 2.9934e+00, 2.6176e+00, 2.7074e-02, 1.9596e+00,\n",
       "                      2.0651e+00, 2.2409e+00, 2.6777e+00, 2.0071e+00, 4.5624e-03, 2.5799e+00,\n",
       "                      2.0050e+00, 2.5759e+00, 1.2019e+00, 1.9952e+00, 1.8716e+00, 1.9295e+00,\n",
       "                      1.9257e+00, 2.8342e+00, 1.8843e+00, 1.9248e+00, 2.0003e+00, 1.9927e+00,\n",
       "                      1.9761e+00, 1.9898e+00, 3.6594e+00, 2.0346e+00, 1.9726e+00, 6.3011e+00,\n",
       "                      4.3627e+00, 2.2304e+00, 4.1150e+00, 2.0046e+00, 1.9416e+00, 2.0049e+00,\n",
       "                      1.9767e+00, 1.9466e+00, 1.9959e+00, 2.7770e+00, 5.9097e+00, 1.1607e+01,\n",
       "                      1.2887e+00, 5.2705e-01, 1.9691e+00, 2.4182e+00, 1.7340e+00, 2.8304e-01,\n",
       "                      2.2504e+00, 9.4956e+00, 1.9974e+00, 1.9394e+00, 8.3742e-01, 1.1874e+00,\n",
       "                      1.9618e+00, 1.8413e+00, 1.0394e+00, 1.9423e+00, 1.8529e+00, 7.1124e+00,\n",
       "                      9.9158e-01, 5.1755e-02, 2.0901e+00, 1.7118e+00, 1.6250e+00, 1.8523e+00,\n",
       "                      1.0483e-01, 3.0077e+00, 1.8750e+00, 1.7080e+00, 1.5479e+00, 1.9062e+00,\n",
       "                      1.7544e+00, 1.6282e+00, 1.8779e+00, 3.4035e+00, 1.7796e+00, 1.2958e+00,\n",
       "                      2.0594e+00, 3.1915e+00, 1.5373e+01, 9.4924e+00, 1.9165e+00, 1.8525e+00,\n",
       "                      1.9687e+00, 1.9947e+00, 1.9857e+00, 1.9915e+00, 1.9989e+00, 4.0197e-02,\n",
       "                      1.0211e+01, 1.9654e+00, 1.9678e+00, 1.9629e+00, 1.1934e+01, 7.9219e-01,\n",
       "                      7.0645e+00, 7.2372e+00, 2.2683e+00], device='cuda:0')),\n",
       "             ('e_0', tensor([0.0089], device='cuda:0')),\n",
       "             ('e_r', tensor([0.3813], device='cuda:0')),\n",
       "             ('f_0', tensor([139.3295], device='cuda:0')),\n",
       "             ('bead_charges_vals',\n",
       "              tensor([ 0.0273, -0.0033,  0.0431, -0.0063, -0.0398,  0.1415, -0.5730,  0.2873,\n",
       "                      -0.0642,  0.0159, -0.0526, -0.0965, -0.0184,  0.2088,  0.0634, -1.0000,\n",
       "                       0.7005, -0.0497, -0.0844,  0.1745], device='cuda:0')),\n",
       "             ('spring_constant_vals',\n",
       "              tensor([ 971.9901,  948.1099,  940.1849,  950.1947, 1059.4849, 1058.6538,\n",
       "                      1057.8281, 1058.6692,  942.2563,  949.7209,  940.1854,  945.7689,\n",
       "                       944.1841,  942.0060,  954.3279,  951.4921,  943.1871,  943.3433,\n",
       "                       938.3730,  948.5120,  952.5891,  945.8398,  942.5124,  940.7203],\n",
       "                     device='cuda:0')),\n",
       "             ('angle_spring_constant_vals',\n",
       "              tensor([ 44.2125,  43.7012, 129.4519,  35.0653, 126.5158, 127.9993, 127.0090,\n",
       "                       22.3621,  36.3589,  19.1714,  23.9565,  23.8961, 117.9766,  24.7740,\n",
       "                       24.3417,  32.4126,  25.3431,  23.9610,  34.6161,  29.0875,  49.8257,\n",
       "                       36.1625,  26.6560,  20.4045,  20.0440,  42.8806,  36.0327,  48.6830,\n",
       "                      128.0719,  50.1464, 124.4681, 126.6651,  19.1714, 128.6168, 112.7114,\n",
       "                      128.7455, 127.2141,  43.0608,  19.1714,  19.1714,  19.1714,  19.1714,\n",
       "                       19.1714,  19.1714,  19.1714,  19.1714,  19.1714,  19.1714,  19.1714,\n",
       "                       19.1714,  19.1714,  19.1714,  19.1714,  19.1714,  19.1714,  19.1714,\n",
       "                       19.1714,  19.1714,  19.1714,  19.1714,  19.1714,  19.1714,  19.1714,\n",
       "                       19.1714,  19.1714,  19.1714,  19.1714,  19.1714,  19.1714,  19.1714,\n",
       "                       19.1714,  19.1714,  19.1714,  19.1714,  19.1714,  19.1714,  19.1714,\n",
       "                       19.1714,  19.1714,  19.1714,  19.1714,  19.1714,  19.1714,  19.1714,\n",
       "                       19.1714,  19.1714,  19.1714,  19.1714,  19.1714,  19.1714,  19.1714,\n",
       "                       19.1714,  19.1714,  19.1714,  19.1714,  19.1714,  19.1714,  19.1714,\n",
       "                       19.1714,  19.1714,  19.1714,  19.1714,  19.1714,  19.1714,  19.1714,\n",
       "                       19.1714,  19.1714,  19.1714,  19.1714,  19.1714,  19.1714,  19.1714,\n",
       "                       19.1714,  19.1714,  19.1714,  19.1714,  19.1714,  19.1714,  19.1714,\n",
       "                       19.1714,  19.1714,  19.1714,  19.1714,  19.1714,  19.1714,  19.1714,\n",
       "                       19.1714,  19.1714,  19.1714,  19.1714,  19.1714,  19.1714,  19.1714,\n",
       "                       19.1714,  19.1714,  19.1714,  19.1714,  19.1714,  19.1714,  19.1714,\n",
       "                       19.1714,  19.1714,  19.1714,  19.1714,  19.1714,  19.1714,  19.1714,\n",
       "                       19.1714,  19.1714,  19.1714,  19.1714,  19.1714,  19.1714,  19.1714,\n",
       "                       19.1714,  19.1714,  19.1714,  19.1714,  19.1714,  19.1714,  19.1714,\n",
       "                       19.1714,  19.1714,  19.1714,  19.1714,  19.1714,  19.1714,  19.1714,\n",
       "                       19.1714,  19.1714,  19.1714,  19.1714,  19.1714,  19.1714,  19.1714,\n",
       "                       19.1714,  19.1714,  19.1714,  19.1714,  19.1714,  19.1714,  19.1714,\n",
       "                       19.1714,  19.1714,  19.1714,  19.1714,  19.1714,  19.1714,  19.1714,\n",
       "                       19.1714,  19.1714,  19.1714,  19.1714,  19.1714,  19.1714,  19.1714,\n",
       "                       19.1714,  19.1714,  19.1714,  19.1714,  19.1714,  19.1714,  19.1714,\n",
       "                       19.1714,  19.1714,  19.1714,  19.1714,  19.1714,  19.1714,  19.1714,\n",
       "                       19.1714,  19.1714,  19.1714,  19.1714,  19.1714,  19.1714,  19.1714,\n",
       "                       19.1714,  19.1714,  19.1714,  19.1714,  19.1714,  19.1714,  19.1714,\n",
       "                       19.1714,  19.1714,  19.1714,  19.1714,  19.1714,  19.1714,  19.1714,\n",
       "                       19.1714,  19.1714,  19.1714,  19.1714,  19.1714,  19.1714,  19.1714,\n",
       "                       19.1714,  19.1714,  19.1714,  19.1714,  19.1714,  19.1714,  19.1714,\n",
       "                       19.1714,  19.1714,  19.1714,  19.1714,  19.1714,  19.1714,  19.1714,\n",
       "                       19.1714,  19.1714,  19.1714,  19.1714,  19.1714,  19.1714,  19.1714,\n",
       "                       19.1714,  19.1714,  19.1714,  19.1714,  19.1714,  19.1714,  19.1714,\n",
       "                       19.1714,  19.1714,  19.1714,  19.1714,  19.1714,  19.1714,  19.1714,\n",
       "                       19.1714,  19.1714,  19.1714,  19.1714,  19.1714,  19.1714,  19.1714,\n",
       "                       19.1714,  19.1714,  19.1714,  19.1714,  19.1714,  19.1714,  19.1714,\n",
       "                       19.1714,  19.1714,  19.1714,  19.1714,  19.1714,  19.1714,  19.1714,\n",
       "                       19.1714,  19.1714,  19.1714,  19.1714,  19.1714,  19.1714,  19.1714,\n",
       "                       19.1714,  19.1714,  19.1714,  19.1714,  19.1714,  19.1714,  19.1714,\n",
       "                       19.1714,  19.1714,  19.1714,  19.1714,  19.1714,  19.1714,  19.1714,\n",
       "                       19.1714,  19.1714,  19.1714,  19.1714,  19.1714,  19.1714,  19.1714,\n",
       "                       19.1714,  19.1714,  19.1714,  19.1714,  19.1714,  19.1714,  19.1714,\n",
       "                       19.1714,  19.1714,  19.1714,  19.1714,  19.1714,  19.1714,  19.1714,\n",
       "                       19.1714,  19.1714,  19.1714,  19.1714,  19.1714,  19.1714,  19.1714,\n",
       "                       19.1714,  19.1714,  19.1714,  19.1714,  19.1714,  19.1714,  19.1714,\n",
       "                       19.1714,  19.1714,  19.1714,  19.1714,  19.1714,  19.1714,  19.1714,\n",
       "                       19.1714,  19.1714,  19.1714,  19.1714,  19.1714,  19.1714,  19.1714,\n",
       "                       19.1714,  19.1714,  19.1714,  19.1714,  19.1714,  19.1714,  19.1714,\n",
       "                       19.1714,  19.1714,  19.1714,  19.1714,  19.1714,  19.1714,  19.1714,\n",
       "                       19.1714,  19.1714,  19.1714,  19.1714,  19.1714,  19.1714,  19.1714,\n",
       "                       19.1714,  19.1714,  19.1714,  19.1714,  19.1714,  19.1714,  19.1714,\n",
       "                       19.1714,  19.1714,  19.1714,  19.1714,  19.1714,  19.1714,  19.1714,\n",
       "                       19.1714,  19.1714,  19.1714,  19.1714,  19.1714,  19.1714,  19.1714,\n",
       "                       19.1714,  19.1714,  19.1714,  19.1714,  19.1714,  19.1714,  19.1714,\n",
       "                       19.1714,  19.1714,  19.1714,  19.1714,  19.1714,  19.1714,  19.1714,\n",
       "                       19.1714,  19.1714,  19.1714,  19.1714,  19.1714,  19.1714,  19.1714,\n",
       "                       19.1714,  19.1714,  19.1714,  19.1714,  19.1714,  19.1714,  19.1714,\n",
       "                       19.1714,  19.1714,  19.1714,  19.1714,  19.1714,  19.1714,  19.1714,\n",
       "                       19.1714,  19.1714,  19.1714,  19.1714,  19.1714,  19.1714,  19.1714,\n",
       "                       19.1714,  19.1714,  19.1714,  19.1714,  19.1714,  19.1714,  19.1714,\n",
       "                       19.1714,  19.1714,  19.1714,  19.1714,  19.1714,  19.1714,  19.1714,\n",
       "                       19.1714,  19.1714,  19.1714,  19.1714,  19.1714,  19.1714,  19.1714,\n",
       "                       19.1714,  19.1714,  19.1714,  19.1714,  19.1714,  19.1714,  19.1714,\n",
       "                       19.1714,  19.1714,  19.1714,  19.1714,  19.1714,  19.1714,  19.1714,\n",
       "                       19.1714,  19.1714,  19.1714,  19.1714,  19.1714,  19.1714,  19.1714,\n",
       "                       19.1714,  19.1714,  19.1714,  19.1714,  19.1714,  19.1714,  19.1714,\n",
       "                       19.1714,  19.1714,  19.1714,  19.1714,  19.1714,  19.1714,  19.1714,\n",
       "                       19.1714,  19.1714,  19.1714,  19.1714,  19.1714,  19.1714,  19.1714,\n",
       "                       19.1714,  19.1714,  19.1714,  19.1714,  19.1714,  19.1714,  19.1714,\n",
       "                       19.1714,  19.1714,  19.1714,  19.1714,  19.1714,  19.1714,  19.1714,\n",
       "                       19.1714,  19.1714,  19.1714,  19.1714,  19.1714,  19.1714,  19.1714,\n",
       "                       19.1714,  19.1714,  19.1714,  19.1714,  19.1714,  19.1714,  19.1714,\n",
       "                       19.1714,  19.1714,  19.1714,  19.1714,  19.1714,  19.1714,  19.1714,\n",
       "                       19.1714,  19.1714,  19.1714,  19.1714, 102.0654,  19.1714,  19.1714,\n",
       "                       19.1714,  19.1714,  19.1714,  19.1714,  19.1714,  19.1714,  19.1714,\n",
       "                       19.1714,  19.1714,  19.1714,  19.1714,  19.1714,  19.1714,  19.1714,\n",
       "                       19.1714,  19.1714,  19.1714,  19.1714,  19.1714,  19.1714,  19.1714,\n",
       "                       19.1714,  19.1714,  19.1714,  19.1714,  19.1714,  19.1714,  19.1714,\n",
       "                       19.1714,  19.1714,  19.1714,  19.1714,  19.1714,  19.1714,  19.1714,\n",
       "                       19.1714,  19.1714,  19.1714,  19.1714,  19.1714,  19.1714,  19.1714,\n",
       "                       19.1714,  19.1714,  19.1714,  19.1714,  19.1714,  19.1714,  19.1714,\n",
       "                       19.1714,  19.1714], device='cuda:0')),\n",
       "             ('dihedral_const_vals',\n",
       "              tensor([28.0389,  1.6423], device='cuda:0')),\n",
       "             ('proper_dih_const', tensor([0.], device='cuda:0')),\n",
       "             ('proper_phase_shift',\n",
       "              tensor([0., 0., 0., 0., 0., 0., 0.], device='cuda:0')),\n",
       "             ('proper_shift',\n",
       "              tensor([1., 1., 1., 1., 1., 1., 1.], device='cuda:0')),\n",
       "             ('proper_dih_const_BB', tensor([-2.4421], device='cuda:0')),\n",
       "             ('proper_phase_shift_BB',\n",
       "              tensor([13.1029,  2.1002,  1.9449, -0.1900], device='cuda:0')),\n",
       "             ('proper_shift_BB',\n",
       "              tensor([6.3742, 1.7242, 2.6226, 2.0314], device='cuda:0')),\n",
       "             ('phantom_force_coeff',\n",
       "              tensor([0., 0., 0., 0., 0., 0., 0., 0., 0., 0., 0., 0., 0., 0., 0., 0., 0., 0., 0., 0., 0., 0., 0., 0.,\n",
       "                      0., 0., 0., 0., 0., 0., 0., 0.], device='cuda:0')),\n",
       "             ('phantom_distance',\n",
       "              tensor([0.3409, 0.5422, 0.7834, 0.9695, 0.7419, 0.1469, 0.2543, 0.4627, 0.6557,\n",
       "                      0.4673, 0.4038, 0.5111, 0.7507, 0.7775, 0.9764, 1.0851, 0.8470, 0.8913,\n",
       "                      0.6087, 0.3996, 0.5125, 0.4773, 0.5307, 0.6775, 0.5831, 0.6640, 0.5004,\n",
       "                      0.5550, 0.5189, 0.3306, 0.4010, 0.5115], device='cuda:0'))])"
      ]
     },
     "execution_count": 19,
     "metadata": {},
     "output_type": "execute_result"
    }
   ],
   "source": [
    "model.state_dict()"
   ]
  },
  {
   "cell_type": "code",
   "execution_count": 20,
   "metadata": {},
   "outputs": [],
   "source": [
    "# torch.cuda.set_device(1)\n",
    "# print(torch.cuda.current_device())"
   ]
  },
  {
   "cell_type": "code",
   "execution_count": 37,
   "metadata": {},
   "outputs": [
    {
     "name": "stdout",
     "output_type": "stream",
     "text": [
      "starting Sim\n"
     ]
    },
    {
     "ename": "ValueError",
     "evalue": "Particle position is NaN.  For more information, see https://github.com/openmm/openmm/wiki/Frequently-Asked-Questions#nan",
     "output_type": "error",
     "traceback": [
      "\u001b[0;31m---------------------------------------------------------------------------\u001b[0m",
      "\u001b[0;31mValueError\u001b[0m                                Traceback (most recent call last)",
      "Cell \u001b[0;32mIn[37], line 55\u001b[0m\n\u001b[1;32m     52\u001b[0m simulation\u001b[38;5;241m.\u001b[39mreporters\u001b[38;5;241m.\u001b[39mappend(ForceReporter(\u001b[38;5;124m'\u001b[39m\u001b[38;5;124moutputforces.txt\u001b[39m\u001b[38;5;124m'\u001b[39m, \u001b[38;5;241m10\u001b[39m))\n\u001b[1;32m     54\u001b[0m \u001b[38;5;66;03m#This line adds another reporter to print out some basic information every 1000 time steps\u001b[39;00m\n\u001b[0;32m---> 55\u001b[0m \u001b[43msimulation\u001b[49m\u001b[38;5;241;43m.\u001b[39;49m\u001b[43mstep\u001b[49m\u001b[43m(\u001b[49m\u001b[38;5;241;43m10000\u001b[39;49m\u001b[43m)\u001b[49m\n\u001b[1;32m     56\u001b[0m state \u001b[38;5;241m=\u001b[39m simulation\u001b[38;5;241m.\u001b[39mcontext\u001b[38;5;241m.\u001b[39mgetState(getPositions\u001b[38;5;241m=\u001b[39m\u001b[38;5;28;01mTrue\u001b[39;00m, getEnergy\u001b[38;5;241m=\u001b[39m\u001b[38;5;28;01mTrue\u001b[39;00m, getForces\u001b[38;5;241m=\u001b[39m\u001b[38;5;28;01mTrue\u001b[39;00m)\n\u001b[1;32m     57\u001b[0m f \u001b[38;5;241m=\u001b[39m np\u001b[38;5;241m.\u001b[39marray([[a\u001b[38;5;241m.\u001b[39mx,a\u001b[38;5;241m.\u001b[39my,a\u001b[38;5;241m.\u001b[39mz]\u001b[38;5;28;01mfor\u001b[39;00m a \u001b[38;5;129;01min\u001b[39;00m state\u001b[38;5;241m.\u001b[39mgetForces()])\n",
      "File \u001b[0;32m~/miniconda3/envs/CGffap/lib/python3.12/site-packages/openmm/app/simulation.py:147\u001b[0m, in \u001b[0;36mSimulation.step\u001b[0;34m(self, steps)\u001b[0m\n\u001b[1;32m    145\u001b[0m \u001b[38;5;28;01mdef\u001b[39;00m \u001b[38;5;21mstep\u001b[39m(\u001b[38;5;28mself\u001b[39m, steps):\n\u001b[1;32m    146\u001b[0m \u001b[38;5;250m    \u001b[39m\u001b[38;5;124;03m\"\"\"Advance the simulation by integrating a specified number of time steps.\"\"\"\u001b[39;00m\n\u001b[0;32m--> 147\u001b[0m     \u001b[38;5;28;43mself\u001b[39;49m\u001b[38;5;241;43m.\u001b[39;49m\u001b[43m_simulate\u001b[49m\u001b[43m(\u001b[49m\u001b[43mendStep\u001b[49m\u001b[38;5;241;43m=\u001b[39;49m\u001b[38;5;28;43mself\u001b[39;49m\u001b[38;5;241;43m.\u001b[39;49m\u001b[43mcurrentStep\u001b[49m\u001b[38;5;241;43m+\u001b[39;49m\u001b[43msteps\u001b[49m\u001b[43m)\u001b[49m\n",
      "File \u001b[0;32m~/miniconda3/envs/CGffap/lib/python3.12/site-packages/openmm/app/simulation.py:249\u001b[0m, in \u001b[0;36mSimulation._simulate\u001b[0;34m(self, endStep, endTime)\u001b[0m\n\u001b[1;32m    247\u001b[0m     \u001b[38;5;28mself\u001b[39m\u001b[38;5;241m.\u001b[39m_generate_reports(wrapped, \u001b[38;5;28;01mTrue\u001b[39;00m)\n\u001b[1;32m    248\u001b[0m \u001b[38;5;28;01mif\u001b[39;00m \u001b[38;5;28mlen\u001b[39m(unwrapped) \u001b[38;5;241m>\u001b[39m \u001b[38;5;241m0\u001b[39m:\n\u001b[0;32m--> 249\u001b[0m     \u001b[38;5;28;43mself\u001b[39;49m\u001b[38;5;241;43m.\u001b[39;49m\u001b[43m_generate_reports\u001b[49m\u001b[43m(\u001b[49m\u001b[43munwrapped\u001b[49m\u001b[43m,\u001b[49m\u001b[43m \u001b[49m\u001b[38;5;28;43;01mFalse\u001b[39;49;00m\u001b[43m)\u001b[49m\n",
      "File \u001b[0;32m~/miniconda3/envs/CGffap/lib/python3.12/site-packages/openmm/app/simulation.py:269\u001b[0m, in \u001b[0;36mSimulation._generate_reports\u001b[0;34m(self, reports, periodic)\u001b[0m\n\u001b[1;32m    265\u001b[0m state \u001b[38;5;241m=\u001b[39m \u001b[38;5;28mself\u001b[39m\u001b[38;5;241m.\u001b[39mcontext\u001b[38;5;241m.\u001b[39mgetState(getPositions\u001b[38;5;241m=\u001b[39mgetPositions, getVelocities\u001b[38;5;241m=\u001b[39mgetVelocities, getForces\u001b[38;5;241m=\u001b[39mgetForces,\n\u001b[1;32m    266\u001b[0m                               getEnergy\u001b[38;5;241m=\u001b[39mgetEnergy, getParameters\u001b[38;5;241m=\u001b[39m\u001b[38;5;28;01mTrue\u001b[39;00m, enforcePeriodicBox\u001b[38;5;241m=\u001b[39mperiodic,\n\u001b[1;32m    267\u001b[0m                               groups\u001b[38;5;241m=\u001b[39m\u001b[38;5;28mself\u001b[39m\u001b[38;5;241m.\u001b[39mcontext\u001b[38;5;241m.\u001b[39mgetIntegrator()\u001b[38;5;241m.\u001b[39mgetIntegrationForceGroups())\n\u001b[1;32m    268\u001b[0m \u001b[38;5;28;01mfor\u001b[39;00m reporter, \u001b[38;5;28mnext\u001b[39m \u001b[38;5;129;01min\u001b[39;00m reports:\n\u001b[0;32m--> 269\u001b[0m     \u001b[43mreporter\u001b[49m\u001b[38;5;241;43m.\u001b[39;49m\u001b[43mreport\u001b[49m\u001b[43m(\u001b[49m\u001b[38;5;28;43mself\u001b[39;49m\u001b[43m,\u001b[49m\u001b[43m \u001b[49m\u001b[43mstate\u001b[49m\u001b[43m)\u001b[49m\n",
      "File \u001b[0;32m~/miniconda3/envs/CGffap/lib/python3.12/site-packages/openmm/app/pdbreporter.py:118\u001b[0m, in \u001b[0;36mPDBReporter.report\u001b[0;34m(self, simulation, state)\u001b[0m\n\u001b[1;32m    116\u001b[0m     \u001b[38;5;28mself\u001b[39m\u001b[38;5;241m.\u001b[39m_topology \u001b[38;5;241m=\u001b[39m topology\n\u001b[1;32m    117\u001b[0m     \u001b[38;5;28mself\u001b[39m\u001b[38;5;241m.\u001b[39m_nextModel \u001b[38;5;241m+\u001b[39m\u001b[38;5;241m=\u001b[39m \u001b[38;5;241m1\u001b[39m\n\u001b[0;32m--> 118\u001b[0m \u001b[43mPDBFile\u001b[49m\u001b[38;5;241;43m.\u001b[39;49m\u001b[43mwriteModel\u001b[49m\u001b[43m(\u001b[49m\u001b[43mtopology\u001b[49m\u001b[43m,\u001b[49m\u001b[43m \u001b[49m\u001b[43mpositions\u001b[49m\u001b[43m,\u001b[49m\u001b[43m \u001b[49m\u001b[38;5;28;43mself\u001b[39;49m\u001b[38;5;241;43m.\u001b[39;49m\u001b[43m_out\u001b[49m\u001b[43m,\u001b[49m\u001b[43m \u001b[49m\u001b[38;5;28;43mself\u001b[39;49m\u001b[38;5;241;43m.\u001b[39;49m\u001b[43m_nextModel\u001b[49m\u001b[43m)\u001b[49m\n\u001b[1;32m    119\u001b[0m \u001b[38;5;28mself\u001b[39m\u001b[38;5;241m.\u001b[39m_nextModel \u001b[38;5;241m+\u001b[39m\u001b[38;5;241m=\u001b[39m \u001b[38;5;241m1\u001b[39m\n\u001b[1;32m    120\u001b[0m \u001b[38;5;28;01mif\u001b[39;00m \u001b[38;5;28mhasattr\u001b[39m(\u001b[38;5;28mself\u001b[39m\u001b[38;5;241m.\u001b[39m_out, \u001b[38;5;124m'\u001b[39m\u001b[38;5;124mflush\u001b[39m\u001b[38;5;124m'\u001b[39m) \u001b[38;5;129;01mand\u001b[39;00m \u001b[38;5;28mcallable\u001b[39m(\u001b[38;5;28mself\u001b[39m\u001b[38;5;241m.\u001b[39m_out\u001b[38;5;241m.\u001b[39mflush):\n",
      "File \u001b[0;32m~/miniconda3/envs/CGffap/lib/python3.12/site-packages/openmm/app/pdbfile.py:347\u001b[0m, in \u001b[0;36mPDBFile.writeModel\u001b[0;34m(topology, positions, file, modelIndex, keepIds, extraParticleIdentifier)\u001b[0m\n\u001b[1;32m    345\u001b[0m     positions \u001b[38;5;241m=\u001b[39m positions\u001b[38;5;241m.\u001b[39mvalue_in_unit(angstroms)\n\u001b[1;32m    346\u001b[0m \u001b[38;5;28;01mif\u001b[39;00m \u001b[38;5;28many\u001b[39m(math\u001b[38;5;241m.\u001b[39misnan(norm(pos)) \u001b[38;5;28;01mfor\u001b[39;00m pos \u001b[38;5;129;01min\u001b[39;00m positions):\n\u001b[0;32m--> 347\u001b[0m     \u001b[38;5;28;01mraise\u001b[39;00m \u001b[38;5;167;01mValueError\u001b[39;00m(\u001b[38;5;124m'\u001b[39m\u001b[38;5;124mParticle position is NaN.  For more information, see https://github.com/openmm/openmm/wiki/Frequently-Asked-Questions#nan\u001b[39m\u001b[38;5;124m'\u001b[39m)\n\u001b[1;32m    348\u001b[0m \u001b[38;5;28;01mif\u001b[39;00m \u001b[38;5;28many\u001b[39m(math\u001b[38;5;241m.\u001b[39misinf(norm(pos)) \u001b[38;5;28;01mfor\u001b[39;00m pos \u001b[38;5;129;01min\u001b[39;00m positions):\n\u001b[1;32m    349\u001b[0m     \u001b[38;5;28;01mraise\u001b[39;00m \u001b[38;5;167;01mValueError\u001b[39;00m(\u001b[38;5;124m'\u001b[39m\u001b[38;5;124mParticle position is infinite.  For more information, see https://github.com/openmm/openmm/wiki/Frequently-Asked-Questions#nan\u001b[39m\u001b[38;5;124m'\u001b[39m)\n",
      "\u001b[0;31mValueError\u001b[0m: Particle position is NaN.  For more information, see https://github.com/openmm/openmm/wiki/Frequently-Asked-Questions#nan"
     ]
    }
   ],
   "source": [
    "# SUCCESSFUL TRIAL WITHOUT FORCES AND WITHOUT BONDS (EMPTY SYSTEM WITH JUST THE PARTICLES)\n",
    "\n",
    "# pdb_file = '/home/enere@usi.ch/FMartIP/ChigCG.pdb'\n",
    "# pdb = PDBFile(pdb_file) # OpenMM loader\n",
    "# pdb.topology = Topology()\n",
    "# pdb.topology.addAtom(dataset['bead_names'][0], \"bead\", \"TRY\")\n",
    "\n",
    "# gro = GromacsGroFile('/home/enere@usi.ch/FMartIP/ChigCG.gro')\n",
    "# top = GromacsTopFile('/home/enere@usi.ch/FMartIP/ChigCGtopol.top')\n",
    "# top.setPeriodicBoxVectors(gro.getPeriodicBoxVectors())\n",
    "\n",
    "# modeller = Modeller(top,gro.positions)\n",
    "\n",
    "# Save the NNP to a file and load it with OpenMM-Torch\n",
    "# torch.jit.script(potential).save('model.pt')\n",
    "# force = TorchForce('model.pt', {'useCUDAGraphs': 'true'})\n",
    "# force = TorchForce('modeltrain.pt')\n",
    "force = TorchForce('/home/enere@usi.ch/CGffap/bestmodelchigtestboard.pt') #'/home/enere@usi.ch/CGffap/bestmodelchigtestboard.pt'\n",
    "#\n",
    "\n",
    "# I would need to still create the empty system\n",
    "# forcefield = ForceField('amber14-all.xml')\n",
    "# system = forcefield.createSystem(pdb.topology, nonbondedMethod=PME, nonbondedCutoff=1*nanometer, constraints=None)\n",
    "# integrator = LangevinIntegrator(300*kelvin, 1/picoseconds , 0.005 * picoseconds)\n",
    "\n",
    "integrator =VerletIntegrator( 0.010*picoseconds) # NoseHooverIntegrator(300*kelvin, 1/picosecond, 0.010*picoseconds) #\n",
    "#\n",
    "#NoseHooverIntegrator(300*kelvin, 1/picosecond, 0.010*picoseconds)\n",
    "\n",
    "\n",
    "while system.getNumForces() > 0:\n",
    "    system.removeForce(0)\n",
    "    \n",
    "# The system should not contain any additional force and constrains\n",
    "assert system.getNumConstraints() == 0\n",
    "assert system.getNumForces() == 0\n",
    "\n",
    "# Add the NNP to the system\n",
    "system.addForce(force)\n",
    "\n",
    "# This line combines the molecular topology, system, and integrator to begin a new simulation. It creates a Simulation object and assigns it to a variable called simulation. \n",
    "# A Simulation object manages all the processes involved in running a simulation, such as advancing time and writing output.\n",
    "simulation = Simulation(pdb.topology, system, integrator)\n",
    "simulation.context.setPositions(pdb.getPositions())\n",
    "\n",
    "# Performs a local energy minimization. It is usually a good idea to do this at the start of a simulation, since the coordinates in the PDB file might produce very large forces.\n",
    "# simulation.minimizeEnergy()\n",
    "print(\"starting Sim\")\n",
    "\n",
    "simulation.reporters.append(PDBReporter('output.pdb', 10))\n",
    "simulation.reporters.append(StateDataReporter('output.dat', 10, step=True, potentialEnergy=True, kineticEnergy=True, temperature=True, time=True, totalEnergy=True))\n",
    "simulation.reporters.append(ForceReporter('outputforces.txt', 10))\n",
    "\n",
    "#This line adds another reporter to print out some basic information every 1000 time steps\n",
    "simulation.step(10000)\n",
    "state = simulation.context.getState(getPositions=True, getEnergy=True, getForces=True)\n",
    "f = np.array([[a.x,a.y,a.z]for a in state.getForces()])\n",
    "p = np.array([[a.x,a.y,a.z]for a in state.getPositions()])\n",
    "# print(state.getForces(), state.getPositions())"
   ]
  },
  {
   "cell_type": "code",
   "execution_count": null,
   "metadata": {},
   "outputs": [
    {
     "data": {
      "text/plain": [
       "Quantity(value=0.28517177279667777, unit=nanometer)"
      ]
     },
     "execution_count": 38,
     "metadata": {},
     "output_type": "execute_result"
    }
   ],
   "source": [
    "np.linalg.norm(pdb.positions[0]-pdb.positions[1])"
   ]
  },
  {
   "cell_type": "code",
   "execution_count": 23,
   "metadata": {},
   "outputs": [
    {
     "data": {
      "text/plain": [
       "array([[-6.98112030e+01, -1.14019951e+02, -1.49613190e+02],\n",
       "       [-1.84358307e+02,  7.95520096e+01, -6.07092361e+01],\n",
       "       [ 2.09198486e+02, -1.09226456e+01,  7.52234497e+01],\n",
       "       [-6.78211136e+01, -4.20476913e+01,  5.05157471e+01],\n",
       "       [ 1.55320969e+02,  4.60710182e+01,  1.21761131e+02],\n",
       "       [ 5.04671097e-01,  1.34712524e+02, -5.25794449e+01],\n",
       "       [-7.99279633e+01,  7.78059692e+01, -1.02273415e+02],\n",
       "       [ 3.46150627e+01,  3.46918907e+01, -4.68689537e+01],\n",
       "       [-3.55086823e+01,  2.99515629e+01, -3.23330879e+00],\n",
       "       [ 7.01212311e+00,  2.12118301e+01,  2.61664524e+01],\n",
       "       [ 1.53727970e+01,  4.38389091e+01,  3.89506378e+01],\n",
       "       [ 3.39016724e+00, -5.79199295e+01, -3.48085976e+01],\n",
       "       [ 6.62115631e+01, -2.25414734e+01, -9.67852631e+01],\n",
       "       [ 1.49305534e+00,  1.26680573e+02,  8.89150543e+01],\n",
       "       [ 1.29718781e+02,  9.94371948e+01,  1.61291885e+00],\n",
       "       [-9.70287933e+01, -3.01457920e+01,  5.97446327e+01],\n",
       "       [-4.08401031e+01, -1.32043060e+02, -1.80210861e+02],\n",
       "       [ 3.57499275e+01, -1.30927076e+01,  7.81324615e+01],\n",
       "       [ 5.29764175e+01,  4.83296204e+00,  5.18063049e+01],\n",
       "       [ 1.09516602e+02, -2.16891663e+02, -1.66232483e+02],\n",
       "       [ 1.44764366e+01,  4.33848267e+01, -1.90085926e+01],\n",
       "       [-1.41169449e+02,  3.09667349e+00, -5.91404819e+00],\n",
       "       [ 2.30400543e+01,  1.50939163e+02,  2.96463585e+00],\n",
       "       [ 1.15098480e+02, -4.13425865e+01, -1.11770096e+02],\n",
       "       [-3.81140411e+02, -9.19105835e+01,  5.18735535e+02],\n",
       "       [-1.64927197e+01, -4.91307602e+01, -7.59325714e+01],\n",
       "       [ 1.72147018e+02,  7.91364059e+01,  8.73735962e+01],\n",
       "       [-8.30196533e+01, -2.32927456e+01,  4.45843277e+01],\n",
       "       [ 1.14433289e+02, -1.34905380e+02, -1.79189682e+01],\n",
       "       [-5.77534943e+01, -1.29267120e+00, -9.22732086e+01],\n",
       "       [ 1.80697250e+01, -2.53163834e+01,  4.10551357e+00],\n",
       "       [-2.34737339e+01,  3.14725571e+01, -3.44600983e+01]])"
      ]
     },
     "execution_count": 23,
     "metadata": {},
     "output_type": "execute_result"
    }
   ],
   "source": [
    "state = simulation.context.getState(getPositions=True, getEnergy=True, getForces=True)\n",
    "np.array([[a.x,a.y,a.z]for a in state.getForces()])"
   ]
  },
  {
   "cell_type": "code",
   "execution_count": 25,
   "metadata": {},
   "outputs": [],
   "source": [
    "poses = torch.Tensor(p).to('cuda')"
   ]
  },
  {
   "cell_type": "code",
   "execution_count": 26,
   "metadata": {},
   "outputs": [],
   "source": [
    "model = torch.jit.load('/home/enere@usi.ch/CGffap/bestmodelchigtestboard.pt')\n",
    "model_forces = model(poses)"
   ]
  },
  {
   "cell_type": "code",
   "execution_count": null,
   "metadata": {},
   "outputs": [],
   "source": [
    "# forcemodel = tm.ForceMapper(model, dataset=dataset, pdb_path= '/home/enere@usi.ch/CGffap/pro.pdb')\n",
    "\n",
    "# forcemodel(poses).detach().cpu().numpy() == np.array([[a.x,a.y,a.z]for a in state.getForces()])"
   ]
  },
  {
   "cell_type": "code",
   "execution_count": 27,
   "metadata": {},
   "outputs": [],
   "source": [
    "output_file = os.path.join(dataset_dir, \"enere@usi.ch/CGffap/dataset.notVoid.npz\")  #fmartip/ff-naive/DatasetsA2A/dataset.A2a.hydrogen.pose0.npz\n",
    "dataset = dict(np.load(output_file))"
   ]
  },
  {
   "cell_type": "code",
   "execution_count": 28,
   "metadata": {},
   "outputs": [
    {
     "data": {
      "text/plain": [
       "34054.33928623185"
      ]
     },
     "execution_count": 28,
     "metadata": {},
     "output_type": "execute_result"
    }
   ],
   "source": [
    "np.linalg.norm(dataset['bead_forces'],axis=0).max()"
   ]
  },
  {
   "cell_type": "code",
   "execution_count": 29,
   "metadata": {},
   "outputs": [
    {
     "data": {
      "text/plain": [
       "19078.327876550014"
      ]
     },
     "execution_count": 29,
     "metadata": {},
     "output_type": "execute_result"
    }
   ],
   "source": [
    "dataset_void = dict(np.load('/home/enere@usi.ch/CGffap/dataset.VoidNoPBC.npz'))\n",
    "np.linalg.norm(dataset_void['bead_forces'],axis=0).max()"
   ]
  },
  {
   "cell_type": "code",
   "execution_count": 30,
   "metadata": {},
   "outputs": [],
   "source": [
    "simForces = np.linalg.norm(np.array(simulation.reporters[2].getForces()),axis=-1)\n",
    "beadForces = np.linalg.norm(dataset['bead_forces'][:len(simForces)],axis=-1)\n",
    "beadForces_void = np.linalg.norm(dataset_void['bead_forces'][:len(simForces)],axis=-1)"
   ]
  },
  {
   "cell_type": "code",
   "execution_count": 31,
   "metadata": {},
   "outputs": [
    {
     "data": {
      "image/png": "[encoded data removed]",
      "text/plain": [
       "<Figure size 1000x500 with 1 Axes>"
      ]
     },
     "metadata": {},
     "output_type": "display_data"
    }
   ],
   "source": [
    "# Plot losses\n",
    "import matplotlib.pyplot as plt\n",
    "selected_bead_index = 10\n",
    "# Plotting dataset 1\n",
    "plt.figure(figsize=(10, 5))\n",
    "plt.plot(simForces[:,selected_bead_index], label='simForces')\n",
    "\n",
    "\n",
    "# Plotting dataset 2\n",
    "plt.plot(beadForces[:,selected_bead_index], linestyle='--', label='beadForces')\n",
    "\n",
    "# Plotting dataset 3\n",
    "plt.plot(beadForces_void[:,selected_bead_index], label='beadForces void')\n",
    "\n",
    "# Adding labels and title\n",
    "plt.xlabel('Index')\n",
    "plt.ylabel('Force')\n",
    "plt.title('Comparison of Forces for Dataset 1 and Dataset 2')\n",
    "\n",
    "# Adding legend\n",
    "plt.legend()\n",
    "\n",
    "# Displaying the plot\n",
    "plt.show()"
   ]
  },
  {
   "cell_type": "code",
   "execution_count": null,
   "metadata": {},
   "outputs": [
    {
     "data": {
      "text/plain": [
       "Quantity(value=[Vec3(x=-1579.8739013671875, y=-5805.24853515625, z=1377.3292236328125), Vec3(x=30926.830078125, y=15395.025390625, z=15333.708984375), Vec3(x=55374.8359375, y=25280.3046875, z=12952.5146484375), Vec3(x=-142824.96875, y=-60372.10546875, z=-35916.1796875), Vec3(x=50878.765625, y=21314.2421875, z=7656.283203125), Vec3(x=653.4158325195312, y=2480.02587890625, z=-4200.8720703125), Vec3(x=-82498.0078125, y=-25669.177734375, z=-14240.6650390625), Vec3(x=-42202.1015625, y=-5667.802734375, z=-5831.48681640625), Vec3(x=-84415.65625, y=-22940.68359375, z=-16695.84375), Vec3(x=214463.53125, y=55968.53125, z=39443.28125), Vec3(x=3518.125, y=-1165.225341796875, z=2753.751708984375), Vec3(x=-90.65547943115234, y=-2602.423095703125, z=1184.9969482421875), Vec3(x=-10435.724609375, y=-875.2655029296875, z=-4883.25634765625), Vec3(x=9334.259765625, y=3747.03369140625, z=471.8678894042969), Vec3(x=1295.7015380859375, y=4004.0234375, z=-5097.162109375), Vec3(x=556.2909545898438, y=-270.170166015625, z=2801.60791015625), Vec3(x=-6819.85888671875, y=-5569.09912109375, z=7240.0654296875), Vec3(x=6195.697265625, y=5391.712890625, z=-5989.9638671875), Vec3(x=-1159.980712890625, y=-2495.28125, z=1728.659423828125), Vec3(x=-10261.533203125, y=-9742.6806640625, z=2518.1279296875), Vec3(x=1919.2880859375, y=6371.68310546875, z=-3203.078125), Vec3(x=38394.6875, y=24625.857421875, z=4754.94775390625), Vec3(x=-4248.06689453125, y=-11544.5986328125, z=3050.064453125), Vec3(x=11031.6923828125, y=-2411.58056640625, z=6662.56982421875), Vec3(x=-18793.76953125, y=9826.955078125, z=-9495.703125), Vec3(x=-22923.361328125, y=-13755.4326171875, z=-1995.236083984375), Vec3(x=20219.23046875, y=3690.927001953125, z=221.4297332763672), Vec3(x=-27831.87890625, y=-13184.3525390625, z=-2273.107177734375), Vec3(x=18546.298828125, y=12012.8583984375, z=1674.74072265625), Vec3(x=-10639.634765625, y=-1702.2518310546875, z=-2088.08251953125), Vec3(x=9708.7646484375, y=6672.97412109375, z=-1217.315185546875), Vec3(x=-6292.33251953125, y=-11008.7705078125, z=1302.0028076171875)], unit=kilojoule/(nanometer*mole))"
      ]
     },
     "execution_count": 31,
     "metadata": {},
     "output_type": "execute_result"
    }
   ],
   "source": [
    "state = simulation.context.getState(getPositions=True, getEnergy=True, getForces=True)\n",
    "\n",
    "state.getForces()"
   ]
  }
 ],
 "metadata": {
  "kernelspec": {
   "display_name": "openmm",
   "language": "python",
   "name": "python3"
  },
  "language_info": {
   "codemirror_mode": {
    "name": "ipython",
    "version": 3
   },
   "file_extension": ".py",
   "mimetype": "text/x-python",
   "name": "python",
   "nbconvert_exporter": "python",
   "pygments_lexer": "ipython3",
   "version": "3.12.3"
  },
  "orig_nbformat": 4
 },
 "nbformat": 4,
 "nbformat_minor": 2
}
