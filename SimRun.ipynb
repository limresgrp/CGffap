{
 "cells": [
  {
   "cell_type": "markdown",
   "metadata": {},
   "source": [
    "# Steps to reproduce this environment to be able to use openmm-torch\n",
    "Disclaimer: All solutions and fixes were suggestions found in github forums adapted for the present problem.\n",
    "\n",
    "1. Install pytorch 1.13.0 (preferrable from conda-forge channel), using CUDA 11.7 version.\n",
    "2. Install openmm from conda as well\n",
    "3. Try to install openmm-torch with conda\n",
    "4. Fail and die\n",
    "5. Rise from the ashes like a phoenix and install openmm-torch from source like a pro (steps to install below) (to confirm if we need to install from source)\n",
    "6. Install caffee from conda\n",
    "7. Add the following env variables: `export LD_LIBRARY_PATH=/path/to/caffe2/build/lib:$LD_LIBRARY_PATH` and `export LD_LIBRARY_PATH=/usr/local/cuda-9.0/lib64:$LD_LIBRARY_PATH`\n",
    "8. By this point you will have to recompile openmm-torch\n",
    "9. In my case (Maybe not needed at all) had to uninstall pytorch and install it again.\n",
    "\n",
    "Note: You need to import torch before importing openmmtorch, otherwise some features won't work\n",
    "\n",
    "### Steps to install openmm-torch from source\n",
    "\n",
    "1. Go to `https://pytorch.org/get-started/locally/` and select the combination: Stable, Linux, Libtorch, C++/Java, CUDA 11.7, and copy the command below the description \"Download here (cxx11 ABI):\". Then change the version from 2.0.1 to 1.13.0. Or alternatively, just copy the following command in the terminal: `wget https://download.pytorch.org/libtorch/cu117/libtorch-shared-with-deps-1.13.0%2Bcu117.zip`\n",
    "2. unzip the zipped file\n",
    "3. Make sure the folder where you unzipped libtorch (The thing downloaded above) is accessible from where you're going to build openmm-torch\n",
    "4. Clone locally the repo https://github.com/openmm/openmm-torch\n",
    "5. write in the terminal `ccmake openmm-torch`\n",
    "6. In the interactive terminal, set `PYTORCH_DIR` to point to the directory where you installed the LibTorch.\n",
    "7. Set `OPENMM_DIR` to point to the directory where OpenMM is installed. This is needed to locate the OpenMM header files and libraries. If you are unsure of what directory this is, the following script will print it out. Set the `CMAKE_INSTALL_PREFIX` to point to the same directory as the `OPENMM_DIR`.\n",
    "8. Set the `CUDA_TOOLKIT_ROOT_DIR` because in this case we need it. And make sure `NN_BUILD_CUDA_LIB` is selected. In our case we also selected the flags `NN_BUILD_OPENCL_LIB`, `NN_BUILD_PYTHON_WRAPPERS` and the `CUDNN_STATIC`.\n",
    "9. If it's the first time configuring the build, you may need to press the \"configure\" `[c]` option twice. After that the \"generate\" `[g]` option will appear. If the progress percentage reaches 100%\n"
   ]
  },
  {
   "cell_type": "code",
   "execution_count": 1,
   "metadata": {},
   "outputs": [],
   "source": [
    "%reload_ext autoreload\n",
    "%autoreload 2"
   ]
  },
  {
   "cell_type": "code",
   "execution_count": 2,
   "metadata": {},
   "outputs": [
    {
     "name": "stderr",
     "output_type": "stream",
     "text": [
      "Warning: importing 'simtk.openmm' is deprecated.  Import 'openmm' instead.\n"
     ]
    }
   ],
   "source": [
    "import torch\n",
    "from openmmtorch import TorchForce\n",
    "import os\n",
    "\n",
    "import yaml\n",
    "from pathlib import Path\n",
    "\n",
    "import numpy as np\n",
    "from openmm.app import *\n",
    "from openmm import *\n",
    "from openmm.unit import *\n",
    "# from force_mapper import ForceMapper\n",
    "\n",
    "# import mdtraj as md\n",
    "\n",
    "import training_modules as tm\n",
    "from sys import stdout\n",
    "\n",
    "from simutils import ForceReporter, ForceModelConvert"
   ]
  },
  {
   "cell_type": "code",
   "execution_count": 3,
   "metadata": {},
   "outputs": [],
   "source": [
    "current_dir = os.getcwd()\n",
    "fmartip_dir = os.path.dirname(current_dir)\n",
    "dataset_dir = os.path.dirname(fmartip_dir)\n",
    "output_file = os.path.join(dataset_dir, \"/storage_common/angiod/chignolin_unfolded/chignolin.data.A.kcal.test.npz\")  #fmartip/ff-naive/DatasetsA2A/dataset.A2a.hydrogen.pose0.npz\n",
    "dataset = dict(np.load(output_file))\n",
    "# Prepare a simulation system\n",
    "atomic_numbers = dataset['atom_types']\n",
    "# output_file = os.path.join(dataset_dir, \"sorted.bond.chig.indices.npz\")  # sorted.bond.a2a.indices.npz\n",
    "# bond_indices = np.load(output_file)\n",
    "# # bond_indices = np.array([[14, 18], [0, 3], [6, 7], [0, 5], [19, 21]])\n",
    "# dataset['bond_indices'] = np.array(bond_indices['arr_0']).reshape(-1,2)\n",
    "# config_file = os.path.join(dataset_dir, \"config.naive.bonds.yaml\")\n",
    "# conf_bonds: list = yaml.safe_load(Path(config_file).read_text())\n",
    "# config_file = os.path.join(dataset_dir, \"config.naive.angles.yaml\")\n",
    "# conf_angles: list = yaml.safe_load(Path(config_file).read_text())\n",
    "# config_file = os.path.join(dataset_dir, \"config.naive.dihedrals.yaml\")\n",
    "# conf_dihedrals: list = yaml.safe_load(Path(config_file).read_text())"
   ]
  },
  {
   "cell_type": "code",
   "execution_count": 4,
   "metadata": {},
   "outputs": [
    {
     "name": "stdout",
     "output_type": "stream",
     "text": [
      "num_residues ()\n",
      "resnames (10,)\n",
      "residcs (10,)\n",
      "resnumbers (10,)\n",
      "num_atoms ()\n",
      "atom_pos (2, 165, 3)\n",
      "atom_resnames (165,)\n",
      "atom_names (165,)\n",
      "atom_types (165,)\n",
      "atom_residcs (165,)\n",
      "atom_resnumbers (165,)\n",
      "ATOM_SEGIDS (165,)\n",
      "atom_forces (2, 165, 3)\n",
      "num_beads ()\n",
      "bead_pos (2, 32, 3)\n",
      "bead_idnames (32,)\n",
      "bead_resnames (32,)\n",
      "bead_names (32,)\n",
      "bead_types (32,)\n",
      "bead_residcs (32,)\n",
      "bead_resnumbers (32,)\n",
      "bead_segids (32,)\n",
      "bead_forces (2, 32, 3)\n",
      "cell (2, 6)\n",
      "pbc (3,)\n",
      "bead2atom_idcs (32, 13)\n",
      "bead2atom_weights (32, 13)\n"
     ]
    }
   ],
   "source": [
    "for k, v in dataset.items():\n",
    "    try:\n",
    "        print(k, v.shape)\n",
    "    except:\n",
    "        print(k)"
   ]
  },
  {
   "cell_type": "code",
   "execution_count": 5,
   "metadata": {},
   "outputs": [
    {
     "data": {
      "text/plain": [
       "{'TYR_BB': Quantity(value=56.043604, unit=dalton),\n",
       " 'TYR_SC1': Quantity(value=26.037454, unit=dalton),\n",
       " 'TYR_SC2': Quantity(value=26.037454000000004, unit=dalton),\n",
       " 'TYR_SC4': Quantity(value=29.018157000000002, unit=dalton),\n",
       " 'TYR_SC3': Quantity(value=26.037454000000004, unit=dalton),\n",
       " 'ASP_BB': Quantity(value=56.043604, unit=dalton),\n",
       " 'ASP_SC1': Quantity(value=59.044261000000006, unit=dalton),\n",
       " 'PRO_BB': Quantity(value=55.035657, unit=dalton),\n",
       " 'PRO_SC1': Quantity(value=42.08002200000001, unit=dalton),\n",
       " 'GLU_BB': Quantity(value=56.043604, unit=dalton),\n",
       " 'GLU_SC1': Quantity(value=73.070935, unit=dalton),\n",
       " 'THR_BB': Quantity(value=56.043604, unit=dalton),\n",
       " 'THR_SC1': Quantity(value=45.060725000000005, unit=dalton),\n",
       " 'GLY_BB': Quantity(value=57.051551, unit=dalton),\n",
       " 'TRP_BB': Quantity(value=56.043604, unit=dalton),\n",
       " 'TRP_SC1': Quantity(value=26.037454, unit=dalton),\n",
       " 'TRP_SC2': Quantity(value=28.033394, unit=dalton),\n",
       " 'TRP_SC3': Quantity(value=24.02156, unit=dalton),\n",
       " 'TRP_SC5': Quantity(value=26.037454000000004, unit=dalton),\n",
       " 'TRP_SC4': Quantity(value=26.037454000000004, unit=dalton)}"
      ]
     },
     "execution_count": 5,
     "metadata": {},
     "output_type": "execute_result"
    }
   ],
   "source": [
    "# bead mass calculation\n",
    "bead_mass_dict = []\n",
    "for atoms in dataset[\"bead2atom_idcs\"]:\n",
    "    bead_mass = None\n",
    "    for j in atoms[atoms > -1]:\n",
    "        atom_type = dataset['atom_types'][j]\n",
    "        if bead_mass is None:\n",
    "            bead_mass = Element._elements_by_atomic_number[atom_type].mass\n",
    "        else:\n",
    "            bead_mass += Element._elements_by_atomic_number[atom_type].mass\n",
    "    bead_mass_dict.append(bead_mass)\n",
    "dataset['bead_mass'] = bead_mass_dict\n",
    "bead_mass_dict = {}\n",
    "for idname, bead_mass in zip(dataset['bead_idnames'], dataset['bead_mass']):\n",
    "    bead_mass_dict[idname] = bead_mass\n",
    "bead_mass_dict"
   ]
  },
  {
   "cell_type": "code",
   "execution_count": 6,
   "metadata": {},
   "outputs": [],
   "source": [
    "pdb_file = os.path.join(dataset_dir, \"/home/angiod@usi.ch/CGffap/chignolin.data.test.pdb\" ) #'/home/enere@usi.ch/FMartIP/original_CG_A2A.pdb' \"ChignCG_unfolded.pdb\" \"original_CG_A2A.pdb\" \"chig_CG/original_CG_a2a_Water.pdb\" \n",
    "pdb = PDBFile(pdb_file) # OpenMM loader"
   ]
  },
  {
   "cell_type": "code",
   "execution_count": 7,
   "metadata": {},
   "outputs": [],
   "source": [
    "starting_atomic_number = 200\n",
    "unique_bead_idnames = np.unique(dataset['bead_idnames'])\n",
    "for index, (atom, bead_idname) in enumerate(zip(pdb.topology.atoms(), np.unique(dataset['bead_idnames']))):\n",
    "    i = dataset['bead_types'][np.where(unique_bead_idnames == bead_idname)][0]\n",
    "    mass = bead_mass_dict[bead_idname]\n",
    "    atomic_number = starting_atomic_number + i\n",
    "    symbol = str(i)\n",
    "    try:\n",
    "        atom.element = Element.getByAtomicNumber(atomic_number)\n",
    "    except:\n",
    "        atom.element = Element(\n",
    "            number=atomic_number,\n",
    "            name=bead_idname,\n",
    "            symbol=symbol,\n",
    "            mass=mass\n",
    "        )"
   ]
  },
  {
   "cell_type": "code",
   "execution_count": 8,
   "metadata": {},
   "outputs": [],
   "source": [
    "# --- BUILD FORCE FIELD --- #\n",
    "pos2unit = AngstromsPerNm\n",
    "# pos2unit = 1.\n",
    "energy2unit = KJPerKcal\n",
    "# energy2unit = 1.\n",
    "\n",
    "# - Wrap trained module to interface with OpenMM - #\n",
    "trained_module_filename = os.path.join('Models', 'A.kcal.best.pt')\n",
    "trained_module = torch.jit.load(trained_module_filename)\n",
    "\n",
    "# Convert model unit of measure to OpenMM unit of measure #\n",
    "ff_module = torch.jit.script(ForceModelConvert(trained_module, pos2unit=pos2unit, energy2unit=energy2unit))\n",
    "\n",
    "p = Path(trained_module_filename)\n",
    "ff_module_filename = str(Path(p.parent, p.stem + '.ff' + p.suffix))\n",
    "ff_module.save(ff_module_filename)\n",
    "\n",
    "# for k,v in trained_module.named_parameters():\n",
    "#     print(k, v)"
   ]
  },
  {
   "cell_type": "code",
   "execution_count": 9,
   "metadata": {},
   "outputs": [
    {
     "name": "stdout",
     "output_type": "stream",
     "text": [
      "starting Sim\n"
     ]
    },
    {
     "data": {
      "text/plain": [
       "array([[0., 0., 0.],\n",
       "       [0., 0., 0.],\n",
       "       [0., 0., 0.],\n",
       "       [0., 0., 0.],\n",
       "       [0., 0., 0.]])"
      ]
     },
     "execution_count": 9,
     "metadata": {},
     "output_type": "execute_result"
    }
   ],
   "source": [
    "# --- LOAD FORCE FIELD --- #\n",
    "\n",
    "ff = TorchForce(ff_module_filename)\n",
    "\n",
    "# --- CREATE SIMULATION SYSTEM --- #\n",
    "\n",
    "system = System()\n",
    "\n",
    "for atom in pdb.topology.atoms():\n",
    "    system.addParticle(atom.element.mass)\n",
    "\n",
    "# boxVectors = pdb.topology.getPeriodicBoxVectors()\n",
    "# if boxVectors is not None:\n",
    "#     system.setDefaultPeriodicBoxVectors(boxVectors[0], boxVectors[1], boxVectors[2])\n",
    "# print(boxVectors)\n",
    "# system.usesPeriodicBoundaryConditions()\n",
    "\n",
    "# integrator = LangevinIntegrator(310*kelvin, 1./picoseconds , 0.01*picoseconds)\n",
    "# integrator = VerletIntegrator(0.01*picoseconds)\n",
    "integrator = NoseHooverIntegrator(310*kelvin, 1./picosecond, 0.002*picoseconds)\n",
    "\n",
    "while system.getNumForces() > 0:\n",
    "    system.removeForce(0)\n",
    "    \n",
    "# The system should not contain any additional force and constrains\n",
    "assert system.getNumConstraints() == 0\n",
    "assert system.getNumForces() == 0\n",
    "\n",
    "# Add the NNP to the system\n",
    "system.addForce(ff)\n",
    "\n",
    "# This line combines the molecular topology, system, and integrator to begin a new simulation. It creates a Simulation object and assigns it to a variable called simulation. \n",
    "# A Simulation object manages all the processes involved in running a simulation, such as advancing time and writing output.\n",
    "simulation = Simulation(pdb.topology, system, integrator)\n",
    "simulation.context.setPositions(pdb.getPositions())\n",
    "\n",
    "# Performs a local energy minimization. It is usually a good idea to do this at the start of a simulation, since the coordinates in the PDB file might produce very large forces.\n",
    "# simulation.minimizeEnergy()\n",
    "print(\"starting Sim\")\n",
    "\n",
    "sim_root = p.parents[1] / 'Sims' / p.stem\n",
    "os.makedirs(str(sim_root), exist_ok=True)\n",
    "simulation.reporters.append(PDBReporter(      str(sim_root / 'output.pdb'), 1))\n",
    "simulation.reporters.append(StateDataReporter(str(sim_root / 'output.dat'), 1, step=True, potentialEnergy=True, kineticEnergy=True, temperature=True, time=True, totalEnergy=True))\n",
    "simulation.reporters.append(ForceReporter(    str(sim_root / 'outputforces.txt'), 1))\n",
    "\n",
    "#This line adds another reporter to print out some basic information every 1000 time steps\n",
    "simulation.step(1)\n",
    "state = simulation.context.getState(getPositions=True, getEnergy=True, getForces=True)\n",
    "\n",
    "state = simulation.context.getState(getPositions=True, getEnergy=True, getForces=True)\n",
    "np.array([[a.x,a.y,a.z]for a in state.getForces()])[25:]"
   ]
  },
  {
   "cell_type": "code",
   "execution_count": null,
   "metadata": {},
   "outputs": [],
   "source": [
    "output_file = os.path.join(dataset_dir, \"enere@usi.ch/CGffap/dataset.notVoid.npz\")  #fmartip/ff-naive/DatasetsA2A/dataset.A2a.hydrogen.pose0.npz\n",
    "dataset = dict(np.load(output_file))"
   ]
  },
  {
   "cell_type": "code",
   "execution_count": null,
   "metadata": {},
   "outputs": [],
   "source": [
    "np.linalg.norm(dataset['bead_forces'],axis=0).max()"
   ]
  },
  {
   "cell_type": "code",
   "execution_count": null,
   "metadata": {},
   "outputs": [],
   "source": [
    "dataset_void = dict(np.load('/home/enere@usi.ch/CGffap/dataset.VoidNoPBC.npz'))\n",
    "np.linalg.norm(dataset_void['bead_forces'],axis=0).max()"
   ]
  },
  {
   "cell_type": "code",
   "execution_count": null,
   "metadata": {},
   "outputs": [],
   "source": [
    "simForces = np.linalg.norm(np.array(simulation.reporters[2].getForces()),axis=-1)\n",
    "beadForces = np.linalg.norm(dataset['bead_forces'][:len(simForces)],axis=-1)\n",
    "beadForces_void = np.linalg.norm(dataset_void['bead_forces'][:len(simForces)],axis=-1)"
   ]
  },
  {
   "cell_type": "code",
   "execution_count": null,
   "metadata": {},
   "outputs": [],
   "source": [
    "# Plot losses\n",
    "import matplotlib.pyplot as plt\n",
    "selected_bead_index = 0\n",
    "# Plotting dataset 1\n",
    "plt.figure(figsize=(10, 5))\n",
    "plt.plot(simForces[:,selected_bead_index], label='simForces')\n",
    "\n",
    "\n",
    "# Plotting dataset 2\n",
    "plt.plot(beadForces[:,selected_bead_index], linestyle='--', label='beadForces')\n",
    "\n",
    "# Plotting dataset 3\n",
    "# plt.plot(beadForces_void[:,selected_bead_index], label='beadForces void')\n",
    "\n",
    "# Adding labels and title\n",
    "plt.xlabel('Index')\n",
    "plt.ylabel('Force')\n",
    "plt.title('Comparison of Forces for Dataset 1 and Dataset 2')\n",
    "\n",
    "# Adding legend\n",
    "plt.legend()\n",
    "\n",
    "# Displaying the plot\n",
    "plt.show()"
   ]
  },
  {
   "cell_type": "code",
   "execution_count": null,
   "metadata": {},
   "outputs": [],
   "source": [
    "state = simulation.context.getState(getPositions=True, getEnergy=True, getForces=True)\n",
    "\n",
    "state.getForces()"
   ]
  }
 ],
 "metadata": {
  "kernelspec": {
   "display_name": "openmm",
   "language": "python",
   "name": "python3"
  },
  "language_info": {
   "codemirror_mode": {
    "name": "ipython",
    "version": 3
   },
   "file_extension": ".py",
   "mimetype": "text/x-python",
   "name": "python",
   "nbconvert_exporter": "python",
   "pygments_lexer": "ipython3",
   "version": "3.8.17"
  },
  "orig_nbformat": 4
 },
 "nbformat": 4,
 "nbformat_minor": 2
}
