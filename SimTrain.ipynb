{
 "cells": [
  {
   "cell_type": "code",
   "execution_count": null,
   "metadata": {},
   "outputs": [],
   "source": [
    "import numpy as np\n",
    "\n",
    "from maputils import EquiValReporter\n",
    "from training_utils import TrainSystem"
   ]
  },
  {
   "cell_type": "code",
   "execution_count": null,
   "metadata": {},
   "outputs": [],
   "source": [
    "dataset = dict(np.load('/storage_common/angiod/chignolin_unfolded/chignolin.data.npz', allow_pickle=True))"
   ]
  },
  {
   "cell_type": "code",
   "execution_count": null,
   "metadata": {},
   "outputs": [],
   "source": [
    "equvalrep = EquiValReporter(dataset=dataset)\n",
    "\n",
    "equvalrep.bondMapper(config_file_path=\"config/bond_config.yaml\")\n",
    "equvalrep.angleMapper(conf_angles_path=\"test_conf/config.angles.yaml\")\n",
    "equvalrep.improperDihedralMapper(conf_angles_path=\"test_conf/config.dihedrals.yaml\")\n",
    "equvalrep.beadChargeMapper()\n",
    "equvalrep.reportEquiVals(reportPath='test_conf/')\n",
    "\n",
    "conf_bonds:        dict = equvalrep.getBonds()\n",
    "conf_angles:       dict = equvalrep.getAngles()\n",
    "conf_dihedrals:    dict = equvalrep.getImproperDihs()\n",
    "conf_bead_charges: dict = equvalrep.getBeadCharges()"
   ]
  },
  {
   "cell_type": "code",
   "execution_count": null,
   "metadata": {},
   "outputs": [],
   "source": [
    "system = TrainSystem(dataset, conf_bonds, conf_angles, conf_dihedrals, conf_bead_charges)\n",
    "\n",
    "model = system.initiateTraining(\n",
    "    dataset=dataset,\n",
    "    train_steps=800,\n",
    "    batch_size=128,\n",
    "    patience=30,\n",
    "    model_name='best',\n",
    "    device='cuda:0',\n",
    "    )"
   ]
  },
  {
   "cell_type": "code",
   "execution_count": null,
   "metadata": {},
   "outputs": [],
   "source": [
    "# MOVE TO DEDICATED NOTEBOOK/SCRIPT #\n",
    "\n",
    "\n",
    "# # Assign directory\n",
    "# input_directory = 'StartingStructures'\n",
    "\n",
    "# output_directory = '../datasets/NoPBCChiignolinVoid'\n",
    "\n",
    "# trj_list = []\n",
    "\n",
    "# for name in os.listdir(output_directory):\n",
    "#     if name.endswith(\".trr\"):\n",
    "#         trj_list.append(output_directory + '/' + name)\n",
    "\n",
    "# print(trj_list)\n",
    "\n",
    "# for sim_path in trj_list:\n",
    "\n",
    "#     config = {\n",
    "#         'mapping': 'martini3',\n",
    "#         'input': 'StartingStructures/chignolin_frames0.pdb',\n",
    "#         'inputtraj': [sim_path],\n",
    "#         'selection': 'protein',\n",
    "#         'output': 'pro.gro',\n",
    "#         'outputtraj': 'xtc',\n",
    "#         #'trajslice': slice(100,10000)\n",
    "#     }\n",
    "\n",
    "#     # Map atoms to beads (only protein for now)\n",
    "#     mapping = Mapper(config)\n",
    "#     mapping.map()\n",
    "#     try:\n",
    "#         dataset[\"bead_forces\"] = np.append(dataset[\"bead_forces\"], mapping.dataset['bead_forces'],axis=0)\n",
    "#         dataset[\"bead_pos\"] = np.append(dataset[\"bead_pos\"], mapping.dataset['bead_pos'],axis=0)\n",
    "\n",
    "#     except:\n",
    "#         dataset = mapping.dataset\n",
    "\n",
    "#     print(dataset['bead_forces'].shape)\n",
    "#     # force_set = forces[:,162]\n",
    "\n",
    "# current_dir = os.getcwd()\n",
    "\n",
    "# output_file = os.path.join(current_dir, \"dataset.NoPBCVoidALLFrames.npz\")\n",
    "# np.savez(output_file, **dataset)\n",
    "# print(f\"{output_file} successfully saved!\")"
   ]
  },
  {
   "cell_type": "code",
   "execution_count": null,
   "metadata": {},
   "outputs": [],
   "source": [
    "system.plotLosses(truncate=10)"
   ]
  },
  {
   "cell_type": "code",
   "execution_count": null,
   "metadata": {},
   "outputs": [],
   "source": [
    "system.plotForceMagnitudeMatching(bead_index=0,to_frame=30)"
   ]
  },
  {
   "cell_type": "code",
   "execution_count": null,
   "metadata": {},
   "outputs": [],
   "source": [
    "system.plotForceMathingByFrame(frame=10)"
   ]
  },
  {
   "cell_type": "code",
   "execution_count": null,
   "metadata": {},
   "outputs": [],
   "source": [
    "system.plotInitialForceGuess()"
   ]
  },
  {
   "cell_type": "code",
   "execution_count": null,
   "metadata": {},
   "outputs": [],
   "source": [
    "system.plotForceMathing(bead_index=0,to_frame=78)"
   ]
  },
  {
   "cell_type": "code",
   "execution_count": null,
   "metadata": {},
   "outputs": [],
   "source": [
    "system.plotValForceMathing(bead_index=0,to_frame=14)"
   ]
  },
  {
   "cell_type": "code",
   "execution_count": null,
   "metadata": {},
   "outputs": [],
   "source": [
    "system.plotABSForceMathing(frame=77)"
   ]
  },
  {
   "cell_type": "code",
   "execution_count": null,
   "metadata": {},
   "outputs": [],
   "source": [
    "system.state_dict()"
   ]
  },
  {
   "cell_type": "code",
   "execution_count": null,
   "metadata": {},
   "outputs": [],
   "source": []
  }
 ],
 "metadata": {
  "kernelspec": {
   "display_name": "openmm",
   "language": "python",
   "name": "python3"
  },
  "language_info": {
   "codemirror_mode": {
    "name": "ipython",
    "version": 3
   },
   "file_extension": ".py",
   "mimetype": "text/x-python",
   "name": "python",
   "nbconvert_exporter": "python",
   "pygments_lexer": "ipython3",
   "version": "3.8.17"
  }
 },
 "nbformat": 4,
 "nbformat_minor": 2
}
