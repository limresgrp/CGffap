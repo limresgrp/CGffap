{
 "cells": [
  {
   "cell_type": "code",
   "execution_count": null,
   "metadata": {},
   "outputs": [],
   "source": [
    "import torch\n",
    "import torch.nn as nn\n",
    "from openmmtorch import TorchForce\n",
    "import os\n",
    "\n",
    "import yaml\n",
    "from pathlib import Path\n",
    "\n",
    "\n",
    "import numpy as np\n",
    "from openmm.app import *\n",
    "from openmm import *\n",
    "from openmm.unit import *\n",
    "\n",
    "from cgmap.mapping import Mapper\n",
    "from maputils import EquiValReporter\n",
    "\n",
    "import training_modules as tm\n",
    "\n",
    "from torch.optim import Adam\n",
    "from torch.nn import MSELoss, L1Loss\n",
    "import matplotlib.pyplot as plt\n",
    "from torch.utils.data import Dataset , DataLoader\n",
    "from training_utils import CGDataset , TrainSystem\n"
   ]
  },
  {
   "cell_type": "code",
   "execution_count": null,
   "metadata": {},
   "outputs": [],
   "source": [
    "# MOVE TO DEDICATED NOTEBOOK/SCRIPT #\n",
    "\n",
    "\n",
    "# # Assign directory\n",
    "# input_directory = 'StartingStructures'\n",
    "\n",
    "# output_directory = '../datasets/NoPBCChiignolinVoid'\n",
    "\n",
    "# trj_list = []\n",
    "\n",
    "# for name in os.listdir(output_directory):\n",
    "#     if name.endswith(\".trr\"):\n",
    "#         trj_list.append(output_directory + '/' + name)\n",
    "\n",
    "# print(trj_list)\n",
    "\n",
    "# for sim_path in trj_list:\n",
    "\n",
    "#     config = {\n",
    "#         'mapping': 'martini3',\n",
    "#         'input': 'StartingStructures/chignolin_frames0.pdb',\n",
    "#         'inputtraj': [sim_path],\n",
    "#         'selection': 'protein',\n",
    "#         'output': 'pro.gro',\n",
    "#         'outputtraj': 'xtc',\n",
    "#         #'trajslice': slice(100,10000)\n",
    "#     }\n",
    "\n",
    "#     # Map atoms to beads (only protein for now)\n",
    "#     mapping = Mapper(config)\n",
    "#     mapping.map()\n",
    "#     try:\n",
    "#         dataset[\"bead_forces\"] = np.append(dataset[\"bead_forces\"], mapping.dataset['bead_forces'],axis=0)\n",
    "#         dataset[\"bead_pos\"] = np.append(dataset[\"bead_pos\"], mapping.dataset['bead_pos'],axis=0)\n",
    "\n",
    "#     except:\n",
    "#         dataset = mapping.dataset\n",
    "\n",
    "#     print(dataset['bead_forces'].shape)\n",
    "#     # force_set = forces[:,162]\n",
    "\n",
    "# current_dir = os.getcwd()\n",
    "\n",
    "# output_file = os.path.join(current_dir, \"dataset.NoPBCVoidALLFrames.npz\")\n",
    "# np.savez(output_file, **dataset)\n",
    "# print(f\"{output_file} successfully saved!\")"
   ]
  },
  {
   "cell_type": "code",
   "execution_count": null,
   "metadata": {},
   "outputs": [],
   "source": [
    "dataset = dict(np.load('dataset.NoPBCVoidALLFrames.npz', allow_pickle=True))"
   ]
  },
  {
   "cell_type": "code",
   "execution_count": null,
   "metadata": {},
   "outputs": [],
   "source": [
    "equvalrep = EquiValReporter(dataset=dataset)\n",
    "\n",
    "equvalrep.bondMapper(config_file_path=\"config/bond_config.yaml\")\n",
    "equvalrep.angleMapper(conf_angles_path=\"test_conf/config.angles.yaml\")\n",
    "equvalrep.improperDihedralMapper(conf_angles_path=\"test_conf/config.dihedrals.yaml\")\n",
    "equvalrep.beadChargeMapper()"
   ]
  },
  {
   "cell_type": "code",
   "execution_count": null,
   "metadata": {},
   "outputs": [],
   "source": [
    "equvalrep.reportEquiVals(reportPath='test_conf/')"
   ]
  },
  {
   "cell_type": "code",
   "execution_count": null,
   "metadata": {},
   "outputs": [],
   "source": [
    "dataset = equvalrep.getDataset()\n",
    "\n",
    "# print(dataset['bead_forces'][:].sum(axis=-1).sum(axis=-1))\n",
    "\n",
    "# dataset['bead_forces'] = (dataset['bead_forces'][:,:,:] - (dataset['bead_forces'][:,:,:].sum(axis=1)/len(dataset['bead_types']))[:,None,:])\n",
    "\n",
    "# print(dataset['bead_forces'][:].sum(axis=-1).sum(axis=-1))\n"
   ]
  },
  {
   "cell_type": "code",
   "execution_count": null,
   "metadata": {},
   "outputs": [],
   "source": [
    "conf_bonds: dict = equvalrep.getBonds()\n",
    "conf_angles: dict = equvalrep.getAngles()\n",
    "conf_dihedrals: dict = equvalrep.getImproperDihs()\n",
    "conf_bead_charges: dict = equvalrep.getBeadCharges()"
   ]
  },
  {
   "cell_type": "code",
   "execution_count": null,
   "metadata": {},
   "outputs": [],
   "source": [
    "dataset['bead_forces'].shape"
   ]
  },
  {
   "cell_type": "code",
   "execution_count": null,
   "metadata": {},
   "outputs": [],
   "source": [
    "# print(torch.cuda.current_device())\n",
    "# torch.cuda.set_device(0)\n",
    "\n",
    "system = TrainSystem(dataset, conf_bonds, conf_angles, conf_dihedrals, conf_bead_charges)#, device_index=1\n",
    "\n",
    "model = system.initiateTraining(dataset = dataset, train_steps=800, batch_size=128, patience=30, model_name='DihandAnglesTestTruncated')"
   ]
  },
  {
   "cell_type": "code",
   "execution_count": null,
   "metadata": {},
   "outputs": [],
   "source": [
    "system.plotLosses(truncate=10)"
   ]
  },
  {
   "cell_type": "code",
   "execution_count": null,
   "metadata": {},
   "outputs": [],
   "source": [
    "system.plotForceMagnitudeMatching(bead_index=0,to_frame=30)"
   ]
  },
  {
   "cell_type": "code",
   "execution_count": null,
   "metadata": {},
   "outputs": [],
   "source": [
    "system.plotForceMathingByFrame(frame=10)"
   ]
  },
  {
   "cell_type": "code",
   "execution_count": null,
   "metadata": {},
   "outputs": [],
   "source": [
    "system.plotInitialForceGuess()"
   ]
  },
  {
   "cell_type": "code",
   "execution_count": null,
   "metadata": {},
   "outputs": [],
   "source": [
    "system.plotForceMathing(bead_index=0,to_frame=78)"
   ]
  },
  {
   "cell_type": "code",
   "execution_count": null,
   "metadata": {},
   "outputs": [],
   "source": [
    "system.plotValForceMathing(bead_index=0,to_frame=14)"
   ]
  },
  {
   "cell_type": "code",
   "execution_count": null,
   "metadata": {},
   "outputs": [],
   "source": [
    "system.plotABSForceMathing(frame=77)"
   ]
  },
  {
   "cell_type": "code",
   "execution_count": null,
   "metadata": {},
   "outputs": [],
   "source": [
    "system.state_dict()"
   ]
  },
  {
   "cell_type": "code",
   "execution_count": null,
   "metadata": {},
   "outputs": [],
   "source": [
    "\n",
    "pdb_file = os.path.join(\"/home/enere@usi.ch/FMartIP/ChigCG.pdb\" ) #'/home/enere@usi.ch/FMartIP/original_CG_A2A.pdb' \"ChignCG_unfolded.pdb\" \"original_CG_A2A.pdb\" \"chig_CG/original_CG_a2a_Water.pdb\" \n",
    "# \"/home/enere@usi.ch/FMartIP/chig_CG/original_CG_a2a_4.pdb\"\n",
    "pdb = PDBFile(pdb_file) # OpenMM loader"
   ]
  },
  {
   "cell_type": "code",
   "execution_count": null,
   "metadata": {},
   "outputs": [],
   "source": [
    "index = 300    \n",
    "for atom, bead in zip(pdb.topology.atoms(), np.unique(dataset['bead_names'])):\n",
    "    # print(chr(index + 150))\n",
    "    i = dataset['bead_types'][np.where(dataset['bead_names'] == bead)]\n",
    "    print(i[0])\n",
    "    mass = 0 #dataset['bead_mass_dict'][bead]\n",
    "    print(mass*amu)\n",
    "    print(bead)\n",
    "    atom.element = Element(number = i[0], name = bead, symbol = chr(index), mass = mass*amu)\n",
    "    index +=3\n",
    "    print(Element.getByAtomicNumber(i[0]))"
   ]
  },
  {
   "cell_type": "code",
   "execution_count": null,
   "metadata": {},
   "outputs": [],
   "source": [
    "system = System()\n",
    "\n",
    "for atom in pdb.topology.atoms():\n",
    "    # print(atom)\n",
    "    # print(dataset['bead_mass'][atom.index])\n",
    "    system.addParticle(atom.element.mass)\n",
    "\n",
    "boxVectors = pdb.topology.getPeriodicBoxVectors()\n",
    "if boxVectors is not None:\n",
    "    system.setDefaultPeriodicBoxVectors(boxVectors[0], boxVectors[1], boxVectors[2])\n",
    "print(boxVectors)\n"
   ]
  },
  {
   "cell_type": "code",
   "execution_count": null,
   "metadata": {},
   "outputs": [],
   "source": [
    "force = TorchForce(model)\n",
    "\n",
    "integrator = NoseHooverIntegrator(300*kelvin, 1/picosecond, 0.010*picoseconds)\n",
    "\n",
    "\n",
    "while system.getNumForces() > 0:\n",
    "    system.removeForce(0)\n",
    "    \n",
    "# The system should not contain any additional force and constrains\n",
    "assert system.getNumConstraints() == 0\n",
    "assert system.getNumForces() == 0\n",
    "\n",
    "# Add the NNP to the system\n",
    "system.addForce(force)\n",
    "\n",
    "# This line combines the molecular topology, system, and integrator to begin a new simulation. It creates a Simulation object and assigns it to a variable called simulation. \n",
    "# A Simulation object manages all the processes involved in running a simulation, such as advancing time and writing output.\n",
    "simulation = Simulation(pdb.topology, system, integrator)\n",
    "simulation.context.setPositions(pdb.positions)\n",
    "\n",
    "# Performs a local energy minimization. It is usually a good idea to do this at the start of a simulation, since the coordinates in the PDB file might produce very large forces.\n",
    "simulation.minimizeEnergy()\n",
    "print(\"starting Sim\")\n",
    "\n",
    "simulation.reporters.append(PDBReporter('output.pdb', 100))\n",
    "simulation.reporters.append(StateDataReporter('output.dat', 100, step=True, potentialEnergy=True, kineticEnergy=True, temperature=True, time=True, totalEnergy=True))\n",
    "\n",
    "#This line adds another reporter to print out some basic information every 1000 time steps\n",
    "simulation.step(50000)\n",
    "state = simulation.context.getState(getPositions=True, getEnergy=True, getForces=True)\n",
    "f = np.array([[a.x,a.y,a.z]for a in state.getForces()])\n",
    "p = np.array([[a.x,a.y,a.z]for a in state.getPositions()])\n",
    "# print(state.getForces(), state.getPositions())"
   ]
  }
 ],
 "metadata": {
  "kernelspec": {
   "display_name": "openmm",
   "language": "python",
   "name": "python3"
  },
  "language_info": {
   "codemirror_mode": {
    "name": "ipython",
    "version": 3
   },
   "file_extension": ".py",
   "mimetype": "text/x-python",
   "name": "python",
   "nbconvert_exporter": "python",
   "pygments_lexer": "ipython3",
   "version": "3.8.17"
  }
 },
 "nbformat": 4,
 "nbformat_minor": 2
}
